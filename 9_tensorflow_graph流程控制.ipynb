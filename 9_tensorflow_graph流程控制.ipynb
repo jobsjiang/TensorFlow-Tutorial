{
 "cells": [
  {
   "cell_type": "markdown",
   "metadata": {},
   "source": [
    "* https://zhuanlan.zhihu.com/p/32540546\n",
    "主要有如下计算图流控制方法\n",
    "* tf.identity\n",
    "* tf.tuple\n",
    "* tf.group\n",
    "* tf.no_op\n",
    "* tf.count_up_to\n",
    "* tf.cond\n",
    "* tf.case\n",
    "* tf.while_loop"
   ]
  },
  {
   "cell_type": "code",
   "execution_count": 1,
   "metadata": {},
   "outputs": [
    {
     "name": "stderr",
     "output_type": "stream",
     "text": [
      "C:\\Users\\jianghaitao1\\AppData\\Local\\Continuum\\anaconda3\\lib\\site-packages\\h5py\\__init__.py:36: FutureWarning: Conversion of the second argument of issubdtype from `float` to `np.floating` is deprecated. In future, it will be treated as `np.float64 == np.dtype(float).type`.\n",
      "  from ._conv import register_converters as _register_converters\n"
     ]
    }
   ],
   "source": [
    "import tensorflow as tf"
   ]
  },
  {
   "cell_type": "code",
   "execution_count": 2,
   "metadata": {},
   "outputs": [
    {
     "name": "stdout",
     "output_type": "stream",
     "text": [
      "2.0\n",
      "3.0\n",
      "4.0\n",
      "5.0\n",
      "6.0\n"
     ]
    }
   ],
   "source": [
    "# tf.identity 它返回一个和输入的tensor大小和数值都一样的tensor，类似于y=x操作，\n",
    "g = tf.Graph()\n",
    "with g.as_default():\n",
    "    x = tf.Variable(1.0,name='x')\n",
    "    x_plus_1 = tf.assign_add(x,1,name='x_plus')\n",
    "    with tf.control_dependencies([x_plus_1]):\n",
    "        y = x\n",
    "        z = tf.identity(x,name='z_added')\n",
    "    init = tf.global_variables_initializer()\n",
    "    with tf.Session() as sess:\n",
    "        sess.run(init)\n",
    "        for i in range(5):\n",
    "            print(sess.run(z)) # 输出 2,3,4,5,6\n",
    "        # 如果改为输出 print(sess.run(y)) ,则结果为 1,1,1,1,1"
   ]
  },
  {
   "cell_type": "code",
   "execution_count": 3,
   "metadata": {},
   "outputs": [],
   "source": [
    "# tf.tuple 创建一个tensors元组"
   ]
  },
  {
   "cell_type": "code",
   "execution_count": 5,
   "metadata": {},
   "outputs": [
    {
     "name": "stdout",
     "output_type": "stream",
     "text": [
      "None\n"
     ]
    }
   ],
   "source": [
    "# tf.group 创建一个聚合多个OP的OP,当这个OP完成后，它输入的所有OP也都完成了，相当于一个控制多个OP计算进度的功能，这个函数没有返回值\n",
    "mul = tf.multiply(w,2)\n",
    "add = tf.add(w,2)\n",
    "group = tf.group(mul,add)\n",
    "print(sess.run(group))"
   ]
  },
  {
   "cell_type": "code",
   "execution_count": 6,
   "metadata": {},
   "outputs": [],
   "source": [
    "# tf.no_op 什么也不做，只是作为一个控制边界的占位符"
   ]
  },
  {
   "cell_type": "code",
   "execution_count": null,
   "metadata": {},
   "outputs": [],
   "source": [
    "# tf.count_up_to 一个计数器，根据计数条件是否满足控制流程；它有两个主要参数，ref,limit，表示每次都在 ref 的基础上递增，直到等于 limit。\n",
    "g = tf.Graph()\n",
    "with g.as_default():\n",
    "    x = tf.Variable(1, name='x',dtype=tf.int32)\n",
    "    li = tf.count_up_to(x,4)\n",
    "    init = tf.global_variables_initializer()\n",
    "    with tf.Session() as sess:\n",
    "        sess.run(init)\n",
    "        for i in range(5):\n",
    "            print(sess.run(x))\n",
    "            print(sess.run(li))"
   ]
  },
  {
   "cell_type": "code",
   "execution_count": 8,
   "metadata": {},
   "outputs": [],
   "source": [
    "# tf.cond 根据条件进行流程控制的函数，\n",
    "# scale = tf.cond(tf.greater(height, width),lambda: x / y,lambda: y / x )"
   ]
  },
  {
   "cell_type": "code",
   "execution_count": 10,
   "metadata": {},
   "outputs": [
    {
     "name": "stdout",
     "output_type": "stream",
     "text": [
      "200\n"
     ]
    }
   ],
   "source": [
    "# tf.case 多分枝流程控制函数\n",
    "def f(k): \n",
    "    return tf.constant(100)*k\n",
    "\n",
    "def g(): \n",
    "    return tf.constant(2333)\n",
    "\n",
    "min_index = tf.constant(2)\n",
    "\n",
    "Case_0 = (tf.equal(min_index,0), lambda: f(0))\n",
    "Case_1 = (tf.equal(min_index,1), lambda: f(1))\n",
    "Case_2 = (tf.equal(min_index,2), lambda: f(2))\n",
    "Case_3 = (tf.equal(min_index,3), lambda: f(3))\n",
    "\n",
    "Case_List = [Case_0, Case_1, Case_2, Case_3]\n",
    "result = tf.case(pred_fn_pairs=Case_List, default=g)\n",
    "\n",
    "with tf.Session() as sess:\n",
    "    print(sess.run(result))"
   ]
  },
  {
   "cell_type": "code",
   "execution_count": 12,
   "metadata": {},
   "outputs": [
    {
     "name": "stdout",
     "output_type": "stream",
     "text": [
      "10\n"
     ]
    }
   ],
   "source": [
    "# tf.while_loop 类似于while循环的函数\n",
    "i = tf.constant(0)\n",
    "c = lambda i: tf.less(i, 10)\n",
    "b = lambda i: tf.add(i, 1)\n",
    "r = tf.while_loop(cond=c, body=b, loop_vars=[i])\n",
    "\n",
    "with tf.Session() as sess:\n",
    "    print(sess.run(r))"
   ]
  },
  {
   "cell_type": "code",
   "execution_count": null,
   "metadata": {},
   "outputs": [],
   "source": []
  }
 ],
 "metadata": {
  "kernelspec": {
   "display_name": "Python [conda env:root] *",
   "language": "python",
   "name": "conda-root-py"
  },
  "language_info": {
   "codemirror_mode": {
    "name": "ipython",
    "version": 3
   },
   "file_extension": ".py",
   "mimetype": "text/x-python",
   "name": "python",
   "nbconvert_exporter": "python",
   "pygments_lexer": "ipython3",
   "version": "3.6.5"
  }
 },
 "nbformat": 4,
 "nbformat_minor": 2
}
