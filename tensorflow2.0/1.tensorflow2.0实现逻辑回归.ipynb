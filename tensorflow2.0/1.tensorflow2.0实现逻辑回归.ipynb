{
 "cells": [
  {
   "cell_type": "code",
   "execution_count": 1,
   "metadata": {},
   "outputs": [],
   "source": [
    "from __future__ import absolute_import,division,print_function\n",
    "import tensorflow as tf\n",
    "import numpy as np"
   ]
  },
  {
   "cell_type": "code",
   "execution_count": 2,
   "metadata": {},
   "outputs": [],
   "source": [
    "# MNIST 数据集参数\n",
    "num_classes = 10 # 数字0-9\n",
    "num_features = 784 # 28*28\n",
    "# 训练参数\n",
    "learning_rate = 0.01\n",
    "training_steps = 1000\n",
    "batch_size = 256\n",
    "display_step = 50\n",
    "# 准备MNIST数据\n",
    "from tensorflow.keras.datasets import mnist\n",
    "(x_train, y_train),(x_test,y_test) = mnist.load_data()\n",
    "# 转换为float32\n",
    "x_train, x_test = np.array(x_train, np.float32), np.array(x_test, np.float32)\n",
    "# 将图像平铺成784个特征的一维向量(28*28)\n",
    "x_train,x_test = x_train.reshape([-1,num_features]),x_test.reshape([-1,num_features])\n",
    "# 将像素值从[0,255]归一化为[0,1]\n",
    "x_train,x_test = x_train / 255,x_test / 255\n",
    "# 使用tf.data api 对数据随机分布和批处理\n",
    "train_data = tf.data.Dataset.from_tensor_slices((x_train,y_train))\n",
    "train_data = train_data.repeat().shuffle(5000).batch(batch_size).prefetch(1)"
   ]
  },
  {
   "cell_type": "code",
   "execution_count": 3,
   "metadata": {},
   "outputs": [
    {
     "name": "stdout",
     "output_type": "stream",
     "text": [
      "step: 50, loss: 1037.358643, accuracy: 0.753906\n",
      "step: 100, loss: 1073.793701, accuracy: 0.777344\n",
      "step: 150, loss: 874.496521, accuracy: 0.812500\n",
      "step: 200, loss: 1186.962769, accuracy: 0.703125\n",
      "step: 250, loss: 845.411011, accuracy: 0.800781\n",
      "step: 300, loss: 870.937805, accuracy: 0.773438\n",
      "step: 350, loss: 1213.385986, accuracy: 0.726562\n",
      "step: 400, loss: 1013.245300, accuracy: 0.769531\n",
      "step: 450, loss: 1155.205322, accuracy: 0.757812\n",
      "step: 500, loss: 960.614990, accuracy: 0.796875\n",
      "step: 550, loss: 959.748535, accuracy: 0.785156\n",
      "step: 600, loss: 1276.874756, accuracy: 0.742188\n",
      "step: 650, loss: 1259.810791, accuracy: 0.699219\n",
      "step: 700, loss: 1115.691406, accuracy: 0.765625\n",
      "step: 750, loss: 964.677490, accuracy: 0.777344\n",
      "step: 800, loss: 1031.218262, accuracy: 0.765625\n",
      "step: 850, loss: 1224.027100, accuracy: 0.730469\n",
      "step: 900, loss: 1040.307251, accuracy: 0.781250\n",
      "step: 950, loss: 613.386475, accuracy: 0.859375\n",
      "step: 1000, loss: 770.899902, accuracy: 0.769531\n"
     ]
    }
   ],
   "source": [
    "# 权值矩阵形状[784,10]，28 * 28图像特征数和类别数目\n",
    "W = tf.Variable(tf.ones([num_features, num_classes]), name=\"weight\")\n",
    "# 偏置形状[10], 类别数目\n",
    "b = tf.Variable(tf.zeros([num_classes]), name=\"bias\")\n",
    "\n",
    "# 逻辑斯谛回归（Wx+b)\n",
    "\n",
    "\n",
    "def logistic_regression(x):\n",
    "    # 应用softmax将logits标准化为概率分布\n",
    "    return tf.nn.softmax(tf.matmul(x, W) + b)\n",
    "\n",
    "# 交叉熵损失函数\n",
    "\n",
    "\n",
    "def cross_entropy(y_pred, y_true):\n",
    "    # 将标签编码为一个独热编码向量\n",
    "    y_true = tf.one_hot(y_true, depth=num_classes)\n",
    "    # 压缩预测值以避免log（0）错误\n",
    "    y_pred = tf.clip_by_value(y_pred, 1e-9, 1.)\n",
    "    # 计算交叉熵\n",
    "    return tf.reduce_mean(-tf.reduce_sum(y_true * tf.math.log(y_pred)))\n",
    "\n",
    "# 准确率度量\n",
    "\n",
    "\n",
    "def accuracy(y_pred, y_true):\n",
    "    # 预测的类别是预测向量中最高分的索引（即argmax）\n",
    "    correct_prediction = tf.equal(\n",
    "        tf.argmax(y_pred, 1), tf.cast(y_true, tf.int64))\n",
    "    return tf.reduce_mean(tf.cast(correct_prediction, tf.float32))\n",
    "\n",
    "\n",
    "# 随机梯度下降优化器\n",
    "optimizer = tf.optimizers.SGD(learning_rate)\n",
    "# 优化过程\n",
    "\n",
    "\n",
    "def run_optimization(x, y):\n",
    "    # 将计算封装在GradientTape中以实现自动微分\n",
    "    with tf.GradientTape() as g:\n",
    "        pred = logistic_regression(x)\n",
    "        loss = cross_entropy(pred, y)\n",
    "\n",
    "    # 计算梯度\n",
    "    gradients = g.gradient(loss, [W, b])\n",
    "\n",
    "    # 根据gradients更新 W 和 b\n",
    "    optimizer.apply_gradients(zip(gradients, [W, b]))\n",
    "\n",
    "\n",
    "# 针对给定训练步骤数开始训练\n",
    "for step, (batch_x, batch_y) in enumerate(train_data.take(training_steps), 1):\n",
    "    # 运行优化以更新W和b值\n",
    "    run_optimization(batch_x, batch_y)\n",
    "\n",
    "    if step % display_step == 0:\n",
    "        pred = logistic_regression(batch_x)\n",
    "        loss = cross_entropy(pred, batch_y)\n",
    "        acc = accuracy(pred, batch_y)\n",
    "        print(\"step: %i, loss: %f, accuracy: %f\" % (step, loss, acc))"
   ]
  },
  {
   "cell_type": "code",
   "execution_count": 4,
   "metadata": {},
   "outputs": [
    {
     "data": {
      "text/plain": [
       "<Figure size 640x480 with 1 Axes>"
      ]
     },
     "metadata": {},
     "output_type": "display_data"
    },
    {
     "name": "stdout",
     "output_type": "stream",
     "text": [
      "Model prediction: 7\n"
     ]
    },
    {
     "data": {
      "text/plain": [
       "<Figure size 640x480 with 1 Axes>"
      ]
     },
     "metadata": {},
     "output_type": "display_data"
    },
    {
     "name": "stdout",
     "output_type": "stream",
     "text": [
      "Model prediction: 2\n"
     ]
    },
    {
     "data": {
      "text/plain": [
       "<Figure size 640x480 with 1 Axes>"
      ]
     },
     "metadata": {},
     "output_type": "display_data"
    },
    {
     "name": "stdout",
     "output_type": "stream",
     "text": [
      "Model prediction: 1\n"
     ]
    },
    {
     "data": {
      "text/plain": [
       "<Figure size 640x480 with 1 Axes>"
      ]
     },
     "metadata": {},
     "output_type": "display_data"
    },
    {
     "name": "stdout",
     "output_type": "stream",
     "text": [
      "Model prediction: 0\n"
     ]
    },
    {
     "data": {
      "text/plain": [
       "<Figure size 640x480 with 1 Axes>"
      ]
     },
     "metadata": {},
     "output_type": "display_data"
    },
    {
     "name": "stdout",
     "output_type": "stream",
     "text": [
      "Model prediction: 4\n"
     ]
    }
   ],
   "source": [
    "# output\n",
    "# 可视化预测\n",
    "import matplotlib.pyplot as plt\n",
    "\n",
    "# 在验证集上中预测5张图片\n",
    "n_images = 5\n",
    "test_images = x_test[:n_images]\n",
    "predictions = logistic_regression(test_images)\n",
    "\n",
    "# 可视化图片和模型预测结果\n",
    "for i in range(n_images):\n",
    "    plt.imshow(np.reshape(test_images[i], [28, 28]), cmap='gray')\n",
    "    plt.show()\n",
    "    print(\"Model prediction: %i\" % np.argmax(predictions.numpy()[i]))"
   ]
  },
  {
   "cell_type": "code",
   "execution_count": null,
   "metadata": {},
   "outputs": [],
   "source": []
  }
 ],
 "metadata": {
  "kernelspec": {
   "display_name": "Python [conda env:tf2]",
   "language": "python",
   "name": "conda-env-tf2-py"
  },
  "language_info": {
   "codemirror_mode": {
    "name": "ipython",
    "version": 3
   },
   "file_extension": ".py",
   "mimetype": "text/x-python",
   "name": "python",
   "nbconvert_exporter": "python",
   "pygments_lexer": "ipython3",
   "version": "3.6.8"
  }
 },
 "nbformat": 4,
 "nbformat_minor": 2
}
