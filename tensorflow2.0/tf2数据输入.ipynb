{
 "cells": [
  {
   "cell_type": "markdown",
   "metadata": {},
   "source": [
    "https://mp.weixin.qq.com/s?__biz=MzIyNzMyODQwMQ==&mid=2247484162&idx=1&sn=29fb4b84b97f0f0b4bd5abd0c33beda2&chksm=e863abfcdf1422ea0906f00cb519cdd52aeedb40f35f99e506519ba2556d701abf96548707d4&mpshare=1&scene=1&srcid=0704OZmSfhDWOnZBbSzoZDgF&sharer_sharetime=1593849450247&sharer_shareid=657e8549167c8c41b6b7ba737f40dff7&key=d28e5ef1d5d516755d76e40ac8d73ad49a43dbef1bd2ef4f1f693a5fe8dff933b200b94f837fc33d072ff169fa99cf4ffe13e834c15e1a226709e7a2d9f928b1456546c32a6d32c9c7bb15a876d4baa4&ascene=1&uin=MjA1MjAyODkxNg%3D%3D&devicetype=Windows+10+x64&version=62090529&lang=zh_CN&exportkey=AarCBFtW3U7ITRA4vRAWIvw%3D&pass_ticket=8rdE%2BKLs9u4lwx%2BtYJ8ezSC2ox%2BQrg7VmG%2FN6ZdVOUJio32zO7KP3jg0u%2Fa2UCg0"
   ]
  },
  {
   "cell_type": "code",
   "execution_count": 1,
   "metadata": {},
   "outputs": [],
   "source": [
    "import numpy as np\n",
    "import tensorflow as tf"
   ]
  },
  {
   "cell_type": "code",
   "execution_count": 2,
   "metadata": {},
   "outputs": [],
   "source": [
    "# 随机生成numpy数据\n",
    "x = np.random.randint(0, 10, size=(1000, 12))\n",
    "y = np.random.randint(0, 2, size=(1000, 1))"
   ]
  },
  {
   "cell_type": "markdown",
   "metadata": {},
   "source": [
    "#### 处理少量数据from_tensor_slices()"
   ]
  },
  {
   "cell_type": "code",
   "execution_count": 3,
   "metadata": {},
   "outputs": [],
   "source": [
    "# 用tf.data.Dataset加载numpy数据\n",
    "x_dataset = tf.data.Dataset.from_tensor_slices(x)\n",
    "train_dataset = tf.data.Dataset.from_tensor_slices((x,y))"
   ]
  },
  {
   "cell_type": "markdown",
   "metadata": {},
   "source": [
    "#### 处理大量数据from_generator()"
   ]
  },
  {
   "cell_type": "code",
   "execution_count": null,
   "metadata": {},
   "outputs": [],
   "source": [
    "# 数据生成器\n",
    "def gen():\n",
    "    for i in range(125):\n",
    "        yiled np.random.rand(8,12),np.random.randint(0,2,size=(8,1))\n",
    "# 用tf.data.Dataset加载生成器数据\n",
    "train_data = tf.data.Dataset.from_generator(gen,output_types=(tf.float32,tf.int32),output_shapes=((8,12),(8,1)))"
   ]
  },
  {
   "cell_type": "markdown",
   "metadata": {},
   "source": [
    "#### TFRecord格式数据"
   ]
  },
  {
   "cell_type": "code",
   "execution_count": null,
   "metadata": {},
   "outputs": [],
   "source": [
    "# 写入TFRecord先需要将数据转为example类型并序列化，生成example则需要先转为Feature类\n",
    "def create_bytes_feature(values):\n",
    "    return tf.train.Feature(bytes_list=tf.train.BytesList(value=list(values)))\n",
    "\n",
    "\n",
    "def create_float_feature(values):\n",
    "    return tf.train.Feature(float_list=tf.train.FloatList(value=list(values)))\n",
    "\n",
    "\n",
    "def create_int64_feature(values):\n",
    "    return tf.train.Feature(int64_list=tf.train.Int64List(value=list(values)))"
   ]
  },
  {
   "cell_type": "code",
   "execution_count": null,
   "metadata": {},
   "outputs": [],
   "source": [
    "# 生辰example并序列化\n",
    "def serialize_example(x_feature, y_feature):\n",
    "    \"\"\"生成example并序列化\"\"\"\n",
    "    feature = {\n",
    "        'x': x_feature,\n",
    "        'y': y_feature,\n",
    "    }\n",
    "    example_proto = tf.train.Example(\n",
    "        features=tf.train.Features(feature=feature))\n",
    "    return example_proto.SerializeToString()"
   ]
  },
  {
   "cell_type": "markdown",
   "metadata": {},
   "source": [
    "#### 写入TFRecord"
   ]
  },
  {
   "cell_type": "code",
   "execution_count": null,
   "metadata": {},
   "outputs": [],
   "source": [
    "with tf.io.TFRecordWriter(\"test.tf_record\") as writer:\n",
    "    for i in range(100):\n",
    "        x, y = np.random.rand(12), np.random.randint(0, 2, size=1)\n",
    "        example = serialize_example(create_float_feature(x), create_int64_feature(y))\n",
    "        writer.write(example)"
   ]
  },
  {
   "cell_type": "markdown",
   "metadata": {},
   "source": [
    "#### 读取TFRecord"
   ]
  },
  {
   "cell_type": "code",
   "execution_count": null,
   "metadata": {},
   "outputs": [],
   "source": [
    "filenames = [\"test.tf_record\"]\n",
    "raw_dataset = tf.data.TFRecordDataset(filenames)\n",
    "for i in raw_dataset:\n",
    "    example = tf.train.Example()\n",
    "    example.ParseFromString(i.numpy())\n",
    "    print(example.features.feature)"
   ]
  }
 ],
 "metadata": {
  "kernelspec": {
   "display_name": "Python [conda env:tf2]",
   "language": "python",
   "name": "conda-env-tf2-py"
  },
  "language_info": {
   "codemirror_mode": {
    "name": "ipython",
    "version": 3
   },
   "file_extension": ".py",
   "mimetype": "text/x-python",
   "name": "python",
   "nbconvert_exporter": "python",
   "pygments_lexer": "ipython3",
   "version": "3.6.8"
  }
 },
 "nbformat": 4,
 "nbformat_minor": 4
}
