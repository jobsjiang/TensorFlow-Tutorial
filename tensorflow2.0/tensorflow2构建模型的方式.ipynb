{
 "cells": [
  {
   "cell_type": "markdown",
   "metadata": {},
   "source": [
    "https://github.com/astoeffelbauer/PyTorchVsTensorFlow/blob/master/blogpost.ipynb"
   ]
  },
  {
   "cell_type": "code",
   "execution_count": 1,
   "metadata": {},
   "outputs": [],
   "source": [
    "import tensorflow as tf"
   ]
  },
  {
   "cell_type": "markdown",
   "metadata": {},
   "source": [
    "#### 1.Subclassing API"
   ]
  },
  {
   "cell_type": "code",
   "execution_count": null,
   "metadata": {},
   "outputs": [],
   "source": [
    "class Subclass_Model(tf.keras.Model):\n",
    "    def __init__(self,embedding_dim=25):\n",
    "        super(Subclass_Model,self).__init__()\n",
    "        self.embedding_layer = tf.keras.layers.Embedding(input_dim=20000,output_dim=50,input_length=42)\n",
    "        self.pool1D_layer = tf.keras.layers.GlobalAveragePooling1D()\n",
    "        self.fc_layer = tf.keras.layers.Dense(1,activation='sigmoid')\n",
    "    def call(self,inputs):\n",
    "        x = self.embedding_layer(inputs)\n",
    "        x = self.pool1D_layer(x)\n",
    "        return self.fc_layer(x)\n",
    "model = Subclass_Model()\n",
    "model.compile(loss='binary_crossentropy',optimizer='Adam',metrics=['accuracy'])"
   ]
  },
  {
   "cell_type": "markdown",
   "metadata": {},
   "source": [
    "#### 2.Functional API"
   ]
  },
  {
   "cell_type": "code",
   "execution_count": null,
   "metadata": {},
   "outputs": [],
   "source": [
    "inputs = tf.keras.layers.Input(shape=(42,))\n",
    "x = tf.keras.layers.Embedding(input_dim=20000,output_dim=50,input_length=42)(inputs)\n",
    "x = tf.keras.layers.GlobalAveragePooling1D()(x)\n",
    "outputs = tf.keras.layers.Dense(units=1,activation='sigmoid')(x)\n",
    "model = tf.keras.models.Model(inputs=inputs,outputs=outputs)\n",
    "model.compile(loss='binary_crossentropy',optimizer='Adam',metrics=['accuracy'])\n",
    "model.summary()"
   ]
  },
  {
   "cell_type": "markdown",
   "metadata": {},
   "source": [
    "#### 3.Sequential API"
   ]
  },
  {
   "cell_type": "code",
   "execution_count": null,
   "metadata": {},
   "outputs": [],
   "source": [
    "model = tf.keras.Sequential()\n",
    "model.add(tf.keras.layers.Embedding(input_dim=20000,output_dim=50,input_length=42))\n",
    "model.add(tf.keras.layers.GlobalAveragePooling1D())\n",
    "model.add(tf.keras.layers.Dense(units=1,activation='sigmoid'))\n",
    "model.compile(loss='binary_crossentropy',optimizer='Adam',metrics=['accuracy'])\n",
    "model.summary()"
   ]
  }
 ],
 "metadata": {
  "kernelspec": {
   "display_name": "Python [conda env:anaconda3-tf2]",
   "language": "python",
   "name": "conda-env-anaconda3-tf2-py"
  },
  "language_info": {
   "codemirror_mode": {
    "name": "ipython",
    "version": 3
   },
   "file_extension": ".py",
   "mimetype": "text/x-python",
   "name": "python",
   "nbconvert_exporter": "python",
   "pygments_lexer": "ipython3",
   "version": "3.6.8"
  }
 },
 "nbformat": 4,
 "nbformat_minor": 4
}
