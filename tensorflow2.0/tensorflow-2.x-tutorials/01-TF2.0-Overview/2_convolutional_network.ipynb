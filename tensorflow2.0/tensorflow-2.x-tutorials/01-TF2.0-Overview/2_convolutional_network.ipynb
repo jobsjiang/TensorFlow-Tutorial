{
 "cells": [
  {
   "cell_type": "code",
   "execution_count": 1,
   "metadata": {},
   "outputs": [
    {
     "name": "stderr",
     "output_type": "stream",
     "text": [
      "C:\\Users\\jianghaitao1\\AppData\\Local\\Continuum\\anaconda3\\envs\\tf2\\lib\\site-packages\\tensorflow\\python\\framework\\dtypes.py:516: FutureWarning: Passing (type, 1) or '1type' as a synonym of type is deprecated; in a future version of numpy, it will be understood as (type, (1,)) / '(1,)type'.\n",
      "  _np_qint8 = np.dtype([(\"qint8\", np.int8, 1)])\n",
      "C:\\Users\\jianghaitao1\\AppData\\Local\\Continuum\\anaconda3\\envs\\tf2\\lib\\site-packages\\tensorflow\\python\\framework\\dtypes.py:517: FutureWarning: Passing (type, 1) or '1type' as a synonym of type is deprecated; in a future version of numpy, it will be understood as (type, (1,)) / '(1,)type'.\n",
      "  _np_quint8 = np.dtype([(\"quint8\", np.uint8, 1)])\n",
      "C:\\Users\\jianghaitao1\\AppData\\Local\\Continuum\\anaconda3\\envs\\tf2\\lib\\site-packages\\tensorflow\\python\\framework\\dtypes.py:518: FutureWarning: Passing (type, 1) or '1type' as a synonym of type is deprecated; in a future version of numpy, it will be understood as (type, (1,)) / '(1,)type'.\n",
      "  _np_qint16 = np.dtype([(\"qint16\", np.int16, 1)])\n",
      "C:\\Users\\jianghaitao1\\AppData\\Local\\Continuum\\anaconda3\\envs\\tf2\\lib\\site-packages\\tensorflow\\python\\framework\\dtypes.py:519: FutureWarning: Passing (type, 1) or '1type' as a synonym of type is deprecated; in a future version of numpy, it will be understood as (type, (1,)) / '(1,)type'.\n",
      "  _np_quint16 = np.dtype([(\"quint16\", np.uint16, 1)])\n",
      "C:\\Users\\jianghaitao1\\AppData\\Local\\Continuum\\anaconda3\\envs\\tf2\\lib\\site-packages\\tensorflow\\python\\framework\\dtypes.py:520: FutureWarning: Passing (type, 1) or '1type' as a synonym of type is deprecated; in a future version of numpy, it will be understood as (type, (1,)) / '(1,)type'.\n",
      "  _np_qint32 = np.dtype([(\"qint32\", np.int32, 1)])\n",
      "C:\\Users\\jianghaitao1\\AppData\\Local\\Continuum\\anaconda3\\envs\\tf2\\lib\\site-packages\\tensorflow\\python\\framework\\dtypes.py:525: FutureWarning: Passing (type, 1) or '1type' as a synonym of type is deprecated; in a future version of numpy, it will be understood as (type, (1,)) / '(1,)type'.\n",
      "  np_resource = np.dtype([(\"resource\", np.ubyte, 1)])\n",
      "C:\\Users\\jianghaitao1\\AppData\\Local\\Continuum\\anaconda3\\envs\\tf2\\lib\\site-packages\\tensorboard\\compat\\tensorflow_stub\\dtypes.py:541: FutureWarning: Passing (type, 1) or '1type' as a synonym of type is deprecated; in a future version of numpy, it will be understood as (type, (1,)) / '(1,)type'.\n",
      "  _np_qint8 = np.dtype([(\"qint8\", np.int8, 1)])\n",
      "C:\\Users\\jianghaitao1\\AppData\\Local\\Continuum\\anaconda3\\envs\\tf2\\lib\\site-packages\\tensorboard\\compat\\tensorflow_stub\\dtypes.py:542: FutureWarning: Passing (type, 1) or '1type' as a synonym of type is deprecated; in a future version of numpy, it will be understood as (type, (1,)) / '(1,)type'.\n",
      "  _np_quint8 = np.dtype([(\"quint8\", np.uint8, 1)])\n",
      "C:\\Users\\jianghaitao1\\AppData\\Local\\Continuum\\anaconda3\\envs\\tf2\\lib\\site-packages\\tensorboard\\compat\\tensorflow_stub\\dtypes.py:543: FutureWarning: Passing (type, 1) or '1type' as a synonym of type is deprecated; in a future version of numpy, it will be understood as (type, (1,)) / '(1,)type'.\n",
      "  _np_qint16 = np.dtype([(\"qint16\", np.int16, 1)])\n",
      "C:\\Users\\jianghaitao1\\AppData\\Local\\Continuum\\anaconda3\\envs\\tf2\\lib\\site-packages\\tensorboard\\compat\\tensorflow_stub\\dtypes.py:544: FutureWarning: Passing (type, 1) or '1type' as a synonym of type is deprecated; in a future version of numpy, it will be understood as (type, (1,)) / '(1,)type'.\n",
      "  _np_quint16 = np.dtype([(\"quint16\", np.uint16, 1)])\n",
      "C:\\Users\\jianghaitao1\\AppData\\Local\\Continuum\\anaconda3\\envs\\tf2\\lib\\site-packages\\tensorboard\\compat\\tensorflow_stub\\dtypes.py:545: FutureWarning: Passing (type, 1) or '1type' as a synonym of type is deprecated; in a future version of numpy, it will be understood as (type, (1,)) / '(1,)type'.\n",
      "  _np_qint32 = np.dtype([(\"qint32\", np.int32, 1)])\n",
      "C:\\Users\\jianghaitao1\\AppData\\Local\\Continuum\\anaconda3\\envs\\tf2\\lib\\site-packages\\tensorboard\\compat\\tensorflow_stub\\dtypes.py:550: FutureWarning: Passing (type, 1) or '1type' as a synonym of type is deprecated; in a future version of numpy, it will be understood as (type, (1,)) / '(1,)type'.\n",
      "  np_resource = np.dtype([(\"resource\", np.ubyte, 1)])\n"
     ]
    }
   ],
   "source": [
    "import os \n",
    "import time\n",
    "import numpy as np\n",
    "import tensorflow as tf\n",
    "from tensorflow.python.ops import summary_ops_v2\n",
    "from tensorflow import keras\n",
    "from tensorflow.keras import datasets,layers,models,optimizers,metrics"
   ]
  },
  {
   "cell_type": "code",
   "execution_count": 2,
   "metadata": {},
   "outputs": [],
   "source": [
    "# 0:默认值，打印所有信息 1：屏蔽INFO信息 2：屏蔽INFO信息和WARNING信息 3：屏蔽INFO,WARNING,ERROR信息\n",
    "os.environ['TF_CPP_MIN_LOG_LEVEL'] = '2' "
   ]
  },
  {
   "cell_type": "code",
   "execution_count": 3,
   "metadata": {},
   "outputs": [],
   "source": [
    "def mnist_datasets():\n",
    "    (x_train,y_train),(x_test,y_test) = datasets.mnist.load_data()\n",
    "    #numpy默认是float64,tf默认是float32\n",
    "    x_train,x_test = x_train/np.float32(255),x_test/np.float32(255)\n",
    "    y_train,y_test = y_train.astype(np.int64),y_test.astype(np.int64)\n",
    "    train_dataset = tf.data.Dataset.from_tensor_slices((x_train,y_train))\n",
    "    test_dataset = tf.data.Dataset.from_tensor_slices((x_test,y_test))\n",
    "    return train_dataset,test_dataset"
   ]
  },
  {
   "cell_type": "code",
   "execution_count": 4,
   "metadata": {},
   "outputs": [],
   "source": [
    "train_ds,test_ds = mnist_datasets()"
   ]
  },
  {
   "cell_type": "code",
   "execution_count": 5,
   "metadata": {},
   "outputs": [],
   "source": [
    "train_ds = train_ds.shuffle(60000).batch(100)\n",
    "test_ds = test_ds.batch(100)"
   ]
  },
  {
   "cell_type": "code",
   "execution_count": 6,
   "metadata": {},
   "outputs": [],
   "source": [
    "# 构建模型\n",
    "model = tf.keras.Sequential([\n",
    "    layers.Reshape(target_shape=[28,28,1],input_shape=[28,28]),\n",
    "    layers.Conv2D(2,5,padding='same',activation=tf.nn.relu),\n",
    "    layers.MaxPooling2D((2,2),(2,2),padding='same'),\n",
    "    layers.Conv2D(4,5,padding='same',activation=tf.nn.relu),\n",
    "    layers.MaxPool2D((2,2),(2,2),padding='same'),\n",
    "    layers.Flatten(),\n",
    "    layers.Dense(32,activation=tf.nn.relu),\n",
    "    layers.Dropout(rate=0.4),\n",
    "    layers.Dense(10)\n",
    "])"
   ]
  },
  {
   "cell_type": "code",
   "execution_count": 7,
   "metadata": {},
   "outputs": [],
   "source": [
    "optimizer = optimizers.SGD(lr=0.01,momentum=0.5)"
   ]
  },
  {
   "cell_type": "code",
   "execution_count": 8,
   "metadata": {},
   "outputs": [],
   "source": [
    "compute_loss = tf.keras.losses.SparseCategoricalCrossentropy(from_logits=True)"
   ]
  },
  {
   "cell_type": "code",
   "execution_count": 9,
   "metadata": {},
   "outputs": [],
   "source": [
    "compute_accuracy = tf.keras.metrics.SparseCategoricalAccuracy()"
   ]
  },
  {
   "cell_type": "code",
   "execution_count": 10,
   "metadata": {},
   "outputs": [],
   "source": [
    "def train_one_step(model,optimizer,images,labels):\n",
    "    with tf.GradientTape() as tape:\n",
    "        logits = model(images,training=True)\n",
    "        loss = compute_loss(labels,logits)\n",
    "        compute_accuracy(labels,logits)\n",
    "    grads = tape.gradient(loss,model.trainable_variables)\n",
    "    optimizer.apply_gradients(zip(grads,model.trainable_variables))\n",
    "    return loss"
   ]
  },
  {
   "cell_type": "code",
   "execution_count": 11,
   "metadata": {},
   "outputs": [],
   "source": [
    "def train(model,optimizer,dataset,log_freq=50):\n",
    "    \n",
    "    avg_loss = metrics.Mean('loss',dtype=tf.float32)\n",
    "    \n",
    "    for images,labels in dataset:\n",
    "        loss = train_one_step(model,optimizer,images,labels)\n",
    "        avg_loss(loss)\n",
    "        if tf.equal(optimizer.iterations % log_freq,0):\n",
    "            train_summary_writer = tf.summary.create_file_writer('../../tf_ckpts/tf_model1/logs')\n",
    "            with train_summary_writer.as_default():\n",
    "#                 summary_ops_v2.scalar('loss',avg_loss.result(),step=optimizer.iterations)\n",
    "#                 summary_ops_v2.scalar('accuracy',compute_accuracy.result(),step=optimizer.iterations)\n",
    "                tf.summary.scalar('loss',avg_loss.result(),step=optimizer.iterations)\n",
    "                tf.summary.scalar('accuracy',compute_accuracy.result(),step=optimizer.iterations)\n",
    "\n",
    "            print('step:',int(optimizer.iterations),'loss:',avg_loss.result().numpy(),'acc:',compute_accuracy.result().numpy())\n",
    "            avg_loss.reset_states()\n",
    "            compute_accuracy.reset_states()"
   ]
  },
  {
   "cell_type": "code",
   "execution_count": 12,
   "metadata": {},
   "outputs": [],
   "source": [
    "def test(model,dataset,step_num):\n",
    "    avg_loss = metrics.Mean('loss',dtype=tf.float32)\n",
    "    for (images,labels) in dataset:\n",
    "        logits = model(images,training=False)\n",
    "        avg_loss(compute_loss(labels,logits))\n",
    "        compute_accuracy(labels,logits)\n",
    "        \n",
    "#     summary_ops_v2.scalar('loss',avg_loss.result(),step=step_num)\n",
    "#     summary_ops_v2.scalar('accuracy',compute_loss.result(),step=step_num)\n",
    "    \n",
    "    print('Model test set loss:{:0.4f} accuracy:{0.2f}'.format(avg_loss.result(),compute_accuracy.result()*100))\n",
    "    print('loss:',avg_loss.result(),'acc:',compute_accuracy.result())"
   ]
  },
  {
   "cell_type": "code",
   "execution_count": 13,
   "metadata": {},
   "outputs": [],
   "source": [
    "MODEL_DIR = '../../tf_ckpts/tf_model1'"
   ]
  },
  {
   "cell_type": "code",
   "execution_count": 14,
   "metadata": {},
   "outputs": [
    {
     "data": {
      "text/plain": [
       "<tensorflow.python.training.tracking.util.InitializationOnlyStatus at 0x1e5d8f6b390>"
      ]
     },
     "execution_count": 14,
     "metadata": {},
     "output_type": "execute_result"
    }
   ],
   "source": [
    "def apply_clean():\n",
    "    if tf.io.gfile.exists(MODEL_DIR):\n",
    "        print('Removing existing model dir:{}'.format(MODEL_DIR))\n",
    "        tf.io.gfile.rmtree(MODEL_DIR)\n",
    "apply_clean()\n",
    "checkpoint_dir = os.path.join(MODEL_DIR,'checkpoints')\n",
    "checkpoint_prefix = os.path.join(checkpoint_dir,'ckpt')\n",
    "checkpoint = tf.train.Checkpoint(model=model,optimizer=optimizer)\n",
    "checkpoint.restore(tf.train.latest_checkpoint(checkpoint_dir))"
   ]
  },
  {
   "cell_type": "code",
   "execution_count": 15,
   "metadata": {},
   "outputs": [
    {
     "name": "stdout",
     "output_type": "stream",
     "text": [
      "step: 500 loss: 1.3838977 acc: 0.52672\n",
      "Train time for epoch #1 (600 total steps): 13.758132457733154\n",
      "saved checkpoint\n",
      "step: 1000 loss: 0.6197652 acc: 0.79432\n",
      "Train time for epoch #2 (1200 total steps): 14.218112468719482\n",
      "saved checkpoint\n",
      "step: 1500 loss: 0.49627706 acc: 0.83322\n",
      "Train time for epoch #3 (1800 total steps): 15.416229486465454\n",
      "saved checkpoint\n",
      "step: 2000 loss: 0.4229736 acc: 0.85702\n",
      "Train time for epoch #4 (2400 total steps): 15.83239197731018\n",
      "saved checkpoint\n",
      "step: 2500 loss: 0.38794577 acc: 0.87186\n",
      "step: 3000 loss: 0.36224905 acc: 0.8869\n",
      "Train time for epoch #5 (3000 total steps): 15.838350296020508\n",
      "saved checkpoint\n",
      "saved SavedModel for exporting\n"
     ]
    }
   ],
   "source": [
    "NUM_TRAIN_EPOCHS = 5\n",
    "for i in range(NUM_TRAIN_EPOCHS):\n",
    "    start = time.time()\n",
    "    train(model, optimizer, train_ds, log_freq=500)\n",
    "    end = time.time()\n",
    "    print('Train time for epoch #{} ({} total steps): {}'.format(\n",
    "        i + 1, int(optimizer.iterations), end - start))\n",
    "    checkpoint.save(checkpoint_prefix)\n",
    "    print('saved checkpoint')\n",
    "    \n",
    "export_path = os.path.join(MODEL_DIR,'export')\n",
    "tf.saved_model.save(model,export_path)\n",
    "print('saved SavedModel for exporting')"
   ]
  },
  {
   "cell_type": "code",
   "execution_count": null,
   "metadata": {},
   "outputs": [],
   "source": []
  }
 ],
 "metadata": {
  "kernelspec": {
   "display_name": "Python [conda env:tf2]",
   "language": "python",
   "name": "conda-env-tf2-py"
  },
  "language_info": {
   "codemirror_mode": {
    "name": "ipython",
    "version": 3
   },
   "file_extension": ".py",
   "mimetype": "text/x-python",
   "name": "python",
   "nbconvert_exporter": "python",
   "pygments_lexer": "ipython3",
   "version": "3.6.8"
  }
 },
 "nbformat": 4,
 "nbformat_minor": 2
}
