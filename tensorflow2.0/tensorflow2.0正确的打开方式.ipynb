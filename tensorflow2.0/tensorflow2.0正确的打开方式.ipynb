{
 "cells": [
  {
   "cell_type": "markdown",
   "metadata": {},
   "source": [
    "https://mp.weixin.qq.com/s/UJx0KJi15nCAXmYGyGEtIA"
   ]
  },
  {
   "cell_type": "code",
   "execution_count": 1,
   "metadata": {},
   "outputs": [],
   "source": [
    "import tensorflow as tf\n",
    "import matplotlib.pyplot as plt\n",
    "from sklearn.model_selection import train_test_split"
   ]
  },
  {
   "cell_type": "code",
   "execution_count": 2,
   "metadata": {},
   "outputs": [
    {
     "name": "stdout",
     "output_type": "stream",
     "text": [
      "2.3.1\n"
     ]
    }
   ],
   "source": [
    "print(tf.__version__)"
   ]
  },
  {
   "cell_type": "code",
   "execution_count": 4,
   "metadata": {},
   "outputs": [],
   "source": [
    "(x_train, y_train), (x_test, y_test) = tf.keras.datasets.fashion_mnist.load_data()"
   ]
  },
  {
   "cell_type": "code",
   "execution_count": 5,
   "metadata": {},
   "outputs": [
    {
     "data": {
      "text/plain": [
       "<matplotlib.image.AxesImage at 0x1fa1ba85a20>"
      ]
     },
     "execution_count": 5,
     "metadata": {},
     "output_type": "execute_result"
    },
    {
     "data": {
      "image/png": "[encoded data removed]",
      "text/plain": [
       "<matplotlib.figure.Figure at 0x1fa1b7c2c50>"
      ]
     },
     "metadata": {
      "needs_background": "light"
     },
     "output_type": "display_data"
    }
   ],
   "source": [
    "plt.imshow(x_train[10])"
   ]
  },
  {
   "cell_type": "code",
   "execution_count": 6,
   "metadata": {},
   "outputs": [
    {
     "name": "stdout",
     "output_type": "stream",
     "text": [
      "x_train shape: (60000, 28, 28, 1) y_train shape: (60000,)\n"
     ]
    }
   ],
   "source": [
    "x_train, x_test = x_train / 255.0, x_test / 255.0\n",
    "x_train = x_train[...,tf.newaxis]\n",
    "x_test = x_test[...,tf.newaxis]\n",
    "print(\"x_train shape:\", x_train.shape, \"y_train shape:\", y_train.shape)"
   ]
  },
  {
   "cell_type": "code",
   "execution_count": 5,
   "metadata": {},
   "outputs": [
    {
     "name": "stdout",
     "output_type": "stream",
     "text": [
      "Model: \"sequential\"\n",
      "_________________________________________________________________\n",
      "Layer (type)                 Output Shape              Param #   \n",
      "=================================================================\n",
      "conv2d (Conv2D)              (None, 28, 28, 32)        320       \n",
      "_________________________________________________________________\n",
      "flatten (Flatten)            (None, 25088)             0         \n",
      "_________________________________________________________________\n",
      "dense (Dense)                (None, 128)               3211392   \n",
      "_________________________________________________________________\n",
      "dense_1 (Dense)              (None, 10)                1290      \n",
      "=================================================================\n",
      "Total params: 3,213,002\n",
      "Trainable params: 3,213,002\n",
      "Non-trainable params: 0\n",
      "_________________________________________________________________\n"
     ]
    }
   ],
   "source": [
    "# 高级API搭建模型+高级API训练模型\n",
    "model = tf.keras.Sequential()\n",
    "model.add(tf.keras.layers.Conv2D(filters=32,kernel_size=3,padding='same',activation='relu',input_shape=(28,28,1)))\n",
    "model.add(tf.keras.layers.Flatten())\n",
    "model.add(tf.keras.layers.Dense(128,activation='relu'))\n",
    "model.add(tf.keras.layers.Dense(10,activation='softmax'))\n",
    "model.summary()"
   ]
  },
  {
   "cell_type": "code",
   "execution_count": 6,
   "metadata": {},
   "outputs": [
    {
     "name": "stdout",
     "output_type": "stream",
     "text": [
      "Epoch 1/2\n",
      "1875/1875 [==============================] - ETA: 0s - loss: 0.3637 - accuracy: 0.8697\n",
      "Epoch 00001: val_loss improved from inf to 0.29203, saving model to ../../dataset\\model.weights.best.hdf5\n",
      "1875/1875 [==============================] - 49s 26ms/step - loss: 0.3637 - accuracy: 0.8697 - val_loss: 0.2920 - val_accuracy: 0.8920\n",
      "Epoch 2/2\n",
      "1875/1875 [==============================] - ETA: 0s - loss: 0.2336 - accuracy: 0.9153\n",
      "Epoch 00002: val_loss improved from 0.29203 to 0.28417, saving model to ../../dataset\\model.weights.best.hdf5\n",
      "1875/1875 [==============================] - 50s 26ms/step - loss: 0.2336 - accuracy: 0.9153 - val_loss: 0.2842 - val_accuracy: 0.8972\n"
     ]
    },
    {
     "data": {
      "text/plain": [
       "<tensorflow.python.keras.callbacks.History at 0x1b4c65ccef0>"
      ]
     },
     "execution_count": 6,
     "metadata": {},
     "output_type": "execute_result"
    }
   ],
   "source": [
    "model.compile(loss='sparse_categorical_crossentropy',optimizer='adam',metrics=['accuracy'])\n",
    "checkpointer = tf.keras.callbacks.ModelCheckpoint(filepath='../../dataset/model.weights.best.hdf5',verbose=1,save_best_only=True)\n",
    "model.fit(x_train,y_train,batch_size=32,epochs=2,validation_data=(x_test,y_test),callbacks=[checkpointer])"
   ]
  },
  {
   "cell_type": "code",
   "execution_count": 7,
   "metadata": {},
   "outputs": [],
   "source": [
    "# 低级API搭建模型+高级API训练模型\n",
    "class FashionNet(tf.keras.Model):\n",
    "    def __init__(self):\n",
    "        super(FashionNet,self).__init__()\n",
    "        self.conv1 = tf.keras.layers.Conv2D(32,3,activation='relu')\n",
    "        self.flatten = tf.keras.layers.Flatten()\n",
    "        self.d1 = tf.keras.layers.Dense(128,activation='relu')\n",
    "        self.d2 = tf.keras.layers.Dense(10,activation='softmax')\n",
    "    def call(self,x):\n",
    "        x = self.conv1(x)\n",
    "        x = self.flatten(x)\n",
    "        x = self.d1(x)\n",
    "        out = self.d2(x)\n",
    "        return out"
   ]
  },
  {
   "cell_type": "code",
   "execution_count": 8,
   "metadata": {},
   "outputs": [
    {
     "name": "stdout",
     "output_type": "stream",
     "text": [
      "Epoch 1/2\n",
      "1873/1875 [============================>.] - ETA: 0s - loss: 0.3786 - accuracy: 0.8640\n",
      "Epoch 00001: val_loss improved from inf to 0.31390, saving model to ../../dataset\\model.weights.best.hdf5\n",
      "1875/1875 [==============================] - 44s 23ms/step - loss: 0.3786 - accuracy: 0.8640 - val_loss: 0.3139 - val_accuracy: 0.8863\n",
      "Epoch 2/2\n",
      "1874/1875 [============================>.] - ETA: 0s - loss: 0.2498 - accuracy: 0.9078\n",
      "Epoch 00002: val_loss improved from 0.31390 to 0.27592, saving model to ../../dataset\\model.weights.best.hdf5\n",
      "1875/1875 [==============================] - 42s 22ms/step - loss: 0.2497 - accuracy: 0.9078 - val_loss: 0.2759 - val_accuracy: 0.9004\n"
     ]
    },
    {
     "data": {
      "text/plain": [
       "<tensorflow.python.keras.callbacks.History at 0x1b4c4465e48>"
      ]
     },
     "execution_count": 8,
     "metadata": {},
     "output_type": "execute_result"
    }
   ],
   "source": [
    "model = FashionNet()\n",
    "model.build(input_shape=(None,28,28,1))\n",
    "model.compile(loss='sparse_categorical_crossentropy',optimizer='adam',metrics=['accuracy'])\n",
    "checkpointer = tf.keras.callbacks.ModelCheckpoint(filepath='../../dataset/model.weights.best.hdf5',verbose=1,save_best_only=True)\n",
    "model.fit(x_train,y_train,batch_size=32,epochs=2,validation_data=(x_test,y_test),callbacks=[checkpointer])keras"
   ]
  },
  {
   "cell_type": "code",
   "execution_count": 3,
   "metadata": {},
   "outputs": [],
   "source": [
    "# 低级API搭建模型+低级API训练模型\n",
    "class FashionNet(tf.keras.Model):\n",
    "    def __init__(self):\n",
    "        super(FashionNet,self).__init__()\n",
    "        self.conv1 = tf.keras.layers.Conv2D(32,3,activation='relu')\n",
    "        self.flatten = tf.keras.layers.Flatten()\n",
    "        self.d1 = tf.keras.layers.Dense(128,activation='relu')\n",
    "        self.d2 = tf.keras.layers.Dense(10,activation='softmax')\n",
    "    def call(self,x):\n",
    "        x = self.conv1(x)\n",
    "        x = self.flatten(x)\n",
    "        x = self.d1(x)\n",
    "        out = self.d2(x)\n",
    "        return out"
   ]
  },
  {
   "cell_type": "code",
   "execution_count": 9,
   "metadata": {},
   "outputs": [
    {
     "name": "stderr",
     "output_type": "stream",
     "text": [
      "W1102 15:10:32.501978  4812 base_layer.py:2377] Layer fashion_net_2 is casting an input tensor from dtype float64 to the layer's dtype of float32, which is new behavior in TensorFlow 2.  The layer has dtype float32 because its dtype defaults to floatx.\n",
      "\n",
      "If you intended to run this layer in float32, you can safely ignore this warning. If in doubt, this warning is likely only an issue if you are porting a TensorFlow 1.X model to TensorFlow 2.\n",
      "\n",
      "To change all layers to have dtype float64 by default, call `tf.keras.backend.set_floatx('float64')`. To change just this layer, pass dtype='float64' to the layer constructor. If you are the author of this layer, you can disable autocasting by passing autocast=False to the base Layer constructor.\n",
      "\n"
     ]
    },
    {
     "name": "stdout",
     "output_type": "stream",
     "text": [
      "Epoch 1, Loss: 0.3820117115974426, Accuracy: 86.22666931152344, Test Loss: 0.28103160858154297, Test Accuracy: 89.39666748046875\n",
      "Epoch 2, Loss: 0.2455371767282486, Accuracy: 90.97166442871094, Test Loss: 0.20824266970157623, Test Accuracy: 92.21666717529297\n",
      "Epoch 3, Loss: 0.18938180804252625, Accuracy: 93.13333892822266, Test Loss: 0.1741063892841339, Test Accuracy: 93.63500213623047\n",
      "Epoch 4, Loss: 0.14432667195796967, Accuracy: 94.85832977294922, Test Loss: 0.13567322492599487, Test Accuracy: 94.99666595458984\n",
      "Epoch 5, Loss: 0.1090964525938034, Accuracy: 96.14666748046875, Test Loss: 0.10261349380016327, Test Accuracy: 96.14166259765625\n"
     ]
    }
   ],
   "source": [
    "model = FashionNet()\n",
    "train_ds = tf.data.Dataset.from_tensor_slices((x_train,y_train))\n",
    "train_ds = train_ds.batch(batch_size=32)\n",
    "test_ds = tf.data.Dataset.from_tensor_slices((x_train, y_train))\n",
    "test_ds = test_ds.batch(batch_size=32)\n",
    "loss_object = tf.keras.losses.SparseCategoricalCrossentropy()\n",
    "optimizer = tf.keras.optimizers.Adam()\n",
    "train_loss = tf.keras.metrics.Mean(name='train_loss')\n",
    "train_accuracy = tf.keras.metrics.SparseCategoricalAccuracy(name='train_accuracy')\n",
    "test_loss = tf.keras.metrics.Mean(name='test_loss')\n",
    "test_accuracy = tf.keras.metrics.SparseCategoricalAccuracy(name='test_accuracy')\n",
    "def train_step(images,labels):\n",
    "    with tf.GradientTape() as tape:\n",
    "        predictions = model(images)\n",
    "        loss = loss_object(labels,predictions)\n",
    "        gradients = tape.gradient(loss,model.trainable_variables)\n",
    "        optimizer.apply_gradients(zip(gradients,model.trainable_variables))\n",
    "        train_loss(loss)\n",
    "        train_accuracy(labels,predictions)\n",
    "def test_step(images,labels):\n",
    "    predictions = model(images)\n",
    "    t_loss = loss_object(labels,predictions)\n",
    "    test_loss(t_loss)\n",
    "    test_accuracy(labels,predictions)\n",
    "EPOCHS = 5\n",
    "for epoch in range(EPOCHS):\n",
    "    train_loss.reset_states()\n",
    "    train_accuracy.reset_states()\n",
    "    test_loss.reset_states()\n",
    "    test_accuracy.reset_states()\n",
    "    for images,labels in train_ds:\n",
    "        train_step(images,labels)\n",
    "    for test_images,test_labels in test_ds:\n",
    "        test_step(test_images,test_labels)\n",
    "    template = 'Epoch {}, Loss: {}, Accuracy: {}, Test Loss: {}, Test Accuracy: {}'\n",
    "    print(template.format(epoch+1,train_loss.result(),train_accuracy.result()*100,test_loss.result(),test_accuracy.result()*100))"
   ]
  },
  {
   "cell_type": "code",
   "execution_count": 12,
   "metadata": {},
   "outputs": [
    {
     "name": "stdout",
     "output_type": "stream",
     "text": [
      "Model: \"functional_3\"\n",
      "_________________________________________________________________\n",
      "Layer (type)                 Output Shape              Param #   \n",
      "=================================================================\n",
      "input_3 (InputLayer)         [(None, 28, 28, 1)]       0         \n",
      "_________________________________________________________________\n",
      "conv2d_5 (Conv2D)            (None, 28, 28, 32)        320       \n",
      "_________________________________________________________________\n",
      "flatten_5 (Flatten)          (None, 25088)             0         \n",
      "_________________________________________________________________\n",
      "dense_10 (Dense)             (None, 128)               3211392   \n",
      "_________________________________________________________________\n",
      "dense_11 (Dense)             (None, 10)                1290      \n",
      "=================================================================\n",
      "Total params: 3,213,002\n",
      "Trainable params: 3,213,002\n",
      "Non-trainable params: 0\n",
      "_________________________________________________________________\n"
     ]
    }
   ],
   "source": [
    "# 高级API搭建模型+低级API训练模型\n",
    "inputs = tf.keras.layers.Input(shape=(28,28,1))\n",
    "conv2d = tf.keras.layers.Conv2D(filters=32,kernel_size=3,padding='same',activation='relu')(inputs)\n",
    "flat = tf.keras.layers.Flatten()(conv2d)\n",
    "dense = tf.keras.layers.Dense(128,activation='relu')(flat)\n",
    "outputs = tf.keras.layers.Dense(10,activation='softmax')(dense)\n",
    "model = tf.keras.models.Model(inputs=inputs,outputs=outputs)\n",
    "model.summary()"
   ]
  },
  {
   "cell_type": "code",
   "execution_count": 13,
   "metadata": {},
   "outputs": [
    {
     "name": "stdout",
     "output_type": "stream",
     "text": [
      "Epoch 1, Loss: 0.37241584062576294, Accuracy: 86.58333587646484, Test Loss: 0.259939044713974, Test Accuracy: 90.27333068847656\n",
      "Epoch 2, Loss: 0.24234150350093842, Accuracy: 91.02999877929688, Test Loss: 0.19628146290779114, Test Accuracy: 92.68000030517578\n",
      "Epoch 3, Loss: 0.1828906387090683, Accuracy: 93.36166381835938, Test Loss: 0.15902476012706757, Test Accuracy: 94.05333709716797\n",
      "Epoch 4, Loss: 0.13792045414447784, Accuracy: 95.02166748046875, Test Loss: 0.1326255202293396, Test Accuracy: 94.97333526611328\n",
      "Epoch 5, Loss: 0.10284900665283203, Accuracy: 96.28499603271484, Test Loss: 0.12878020107746124, Test Accuracy: 95.33666229248047\n"
     ]
    }
   ],
   "source": [
    "train_ds = tf.data.Dataset.from_tensor_slices((x_train,y_train))\n",
    "train_ds = train_ds.batch(batch_size=32)\n",
    "test_ds = tf.data.Dataset.from_tensor_slices((x_train, y_train))\n",
    "test_ds = test_ds.batch(batch_size=32)\n",
    "loss_object = tf.keras.losses.SparseCategoricalCrossentropy()\n",
    "optimizer = tf.keras.optimizers.Adam()\n",
    "train_loss = tf.keras.metrics.Mean(name='train_loss')\n",
    "train_accuracy = tf.keras.metrics.SparseCategoricalAccuracy(name='train_accuracy')\n",
    "test_loss = tf.keras.metrics.Mean(name='test_loss')\n",
    "test_accuracy = tf.keras.metrics.SparseCategoricalAccuracy(name='test_accuracy')\n",
    "def train_step(images,labels):\n",
    "    with tf.GradientTape() as tape:\n",
    "        predictions = model(images)\n",
    "        loss = loss_object(labels,predictions)\n",
    "        gradients = tape.gradient(loss,model.trainable_variables)\n",
    "        optimizer.apply_gradients(zip(gradients,model.trainable_variables))\n",
    "        train_loss(loss)\n",
    "        train_accuracy(labels,predictions)\n",
    "def test_step(images,labels):\n",
    "    predictions = model(images)\n",
    "    t_loss = loss_object(labels,predictions)\n",
    "    test_loss(t_loss)\n",
    "    test_accuracy(labels,predictions)\n",
    "EPOCHS = 5\n",
    "for epoch in range(EPOCHS):\n",
    "    train_loss.reset_states()\n",
    "    train_accuracy.reset_states()\n",
    "    test_loss.reset_states()\n",
    "    test_accuracy.reset_states()\n",
    "    for images,labels in train_ds:\n",
    "        train_step(images,labels)\n",
    "    for test_images,test_labels in test_ds:\n",
    "        test_step(test_images,test_labels)\n",
    "    template = 'Epoch {}, Loss: {}, Accuracy: {}, Test Loss: {}, Test Accuracy: {}'\n",
    "    print(template.format(epoch+1,train_loss.result(),train_accuracy.result()*100,test_loss.result(),test_accuracy.result()*100))"
   ]
  },
  {
   "cell_type": "code",
   "execution_count": null,
   "metadata": {},
   "outputs": [],
   "source": []
  }
 ],
 "metadata": {
  "kernelspec": {
   "display_name": "Python [conda env:anaconda3-tf2]",
   "language": "python",
   "name": "conda-env-anaconda3-tf2-py"
  },
  "language_info": {
   "codemirror_mode": {
    "name": "ipython",
    "version": 3
   },
   "file_extension": ".py",
   "mimetype": "text/x-python",
   "name": "python",
   "nbconvert_exporter": "python",
   "pygments_lexer": "ipython3",
   "version": "3.6.8"
  }
 },
 "nbformat": 4,
 "nbformat_minor": 4
}
