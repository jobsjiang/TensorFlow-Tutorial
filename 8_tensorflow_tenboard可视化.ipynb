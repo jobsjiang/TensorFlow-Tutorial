{
 "cells": [
  {
   "cell_type": "code",
   "execution_count": 5,
   "metadata": {
    "ExecuteTime": {
     "end_time": "2019-07-13T02:49:35.808930Z",
     "start_time": "2019-07-13T02:49:35.805455Z"
    }
   },
   "outputs": [],
   "source": [
    "# -*- coding: utf-8 -*-\n",
    "import tensorflow as tf\n",
    "tf.reset_default_graph()"
   ]
  },
  {
   "cell_type": "code",
   "execution_count": 11,
   "metadata": {
    "ExecuteTime": {
     "end_time": "2019-07-13T03:55:58.115159Z",
     "start_time": "2019-07-13T03:55:58.051939Z"
    }
   },
   "outputs": [
    {
     "name": "stdout",
     "output_type": "stream",
     "text": [
      "100\n",
      "b'\\n\\x10\\n\\tvariable1\\x15\\x00\\x00\\x80?\\n\\x10\\n\\tvariable2\\x15\\xba\\x1a\\x97\\xbe\\n\\x10\\n\\tvariable3\\x15\\xa3r4?\\n\\x12\\n\\x0bvariable1_1\\x15\\x00\\x00\\x80?\\n\\x12\\n\\x0bvariable2_1\\x15\\x85\\x02\\xa4\\xbe\\n\\x12\\n\\x0bvariable3_1\\x15\\xbe\\xfe-?\\n\\x12\\n\\x0bvariable1_2\\x15\\x00\\x00\\x80?\\n\\x12\\n\\x0bvariable2_2\\x15\\xdbg5\\xc0\\n\\x12\\n\\x0bvariable3_2\\x15\\xb6\\xcf\\xea\\xbf' 1.0 -2.8344638 -1.8344638\n",
      "200\n",
      "b'\\n\\x10\\n\\tvariable1\\x15\\x00\\x00\\x80?\\n\\x10\\n\\tvariable2\\x15x}(>\\n\\x10\\n\\tvariable3\\x15\\xaf\\x0f\\x95?\\n\\x12\\n\\x0bvariable1_1\\x15\\x00\\x00\\x80?\\n\\x12\\n\\x0bvariable2_1\\x15\\xbb\\x7f;\\xc0\\n\\x12\\n\\x0bvariable3_1\\x15v\\xff\\xf6\\xbf\\n\\x12\\n\\x0bvariable1_2\\x15\\x00\\x00\\x80?\\n\\x12\\n\\x0bvariable2_2\\x15R\\x158\\xbf\\n\\x12\\n\\x0bvariable3_2\\x15\\\\\\xd5\\x8f>' 1.0 -0.7190753 0.28092468\n",
      "300\n",
      "b'\\n\\x10\\n\\tvariable1\\x15\\x00\\x00\\x80?\\n\\x10\\n\\tvariable2\\x15\\xb0 \\xae\\xbd\\n\\x10\\n\\tvariable3\\x15\\xea;j?\\n\\x12\\n\\x0bvariable1_1\\x15\\x00\\x00\\x80?\\n\\x12\\n\\x0bvariable2_1\\x15\\xf0\\x90\\xec\\xbe\\n\\x12\\n\\x0bvariable3_1\\x15\\x88\\xb7\\t?\\n\\x12\\n\\x0bvariable1_2\\x15\\x00\\x00\\x80?\\n\\x12\\n\\x0bvariable2_2\\x15}r\\x88?\\n\\x12\\n\\x0bvariable3_2\\x15>9\\x04@' 1.0 1.0659939 2.0659938\n",
      "400\n",
      "b'\\n\\x10\\n\\tvariable1\\x15\\x00\\x00\\x80?\\n\\x10\\n\\tvariable2\\x15\\xd1\\x88\\xfe\\xbe\\n\\x10\\n\\tvariable3\\x15\\x98\\xbb\\x00?\\n\\x12\\n\\x0bvariable1_1\\x15\\x00\\x00\\x80?\\n\\x12\\n\\x0bvariable2_1\\x15\\x89\\x04\\xcb\\xbf\\n\\x12\\n\\x0bvariable3_1\\x15\\x12\\t\\x16\\xbf\\n\\x12\\n\\x0bvariable1_2\\x15\\x00\\x00\\x80?\\n\\x12\\n\\x0bvariable2_2\\x15\\xc3Ob\\xbf\\n\\x12\\n\\x0bvariable3_2\\x15\\xe8\\x81\\xed=' 1.0 -0.88402957 0.11597043\n",
      "500\n",
      "b'\\n\\x10\\n\\tvariable1\\x15\\x00\\x00\\x80?\\n\\x10\\n\\tvariable2\\x15\\xaf\\xbe\\xb2=\\n\\x10\\n\\tvariable3\\x15\\xeb+\\x8b?\\n\\x12\\n\\x0bvariable1_1\\x15\\x00\\x00\\x80?\\n\\x12\\n\\x0bvariable2_1\\x15\\xbd\\x17\\xef\\xbe\\n\\x12\\n\\x0bvariable3_1\\x15\"t\\x08?\\n\\x12\\n\\x0bvariable1_2\\x15\\x00\\x00\\x80?\\n\\x12\\n\\x0bvariable2_2\\x15\\x99\\xdc\\xaa=\\n\\x12\\n\\x0bvariable3_2\\x15\\xca\\xad\\x8a?' 1.0 0.08342857 1.0834286\n",
      "600\n",
      "b\"\\n\\x10\\n\\tvariable1\\x15\\x00\\x00\\x80?\\n\\x10\\n\\tvariable2\\x15\\xe5\\x17-?\\n\\x10\\n\\tvariable3\\x15\\xf2\\x8b\\xd6?\\n\\x12\\n\\x0bvariable1_1\\x15\\x00\\x00\\x80?\\n\\x12\\n\\x0bvariable2_1\\x15\\x91\\xa1\\xbc?\\n\\x12\\n\\x0bvariable3_1\\x15\\xc8P\\x1e@\\n\\x12\\n\\x0bvariable1_2\\x15\\x00\\x00\\x80?\\n\\x12\\n\\x0bvariable2_2\\x15(\\xa1'?\\n\\x12\\n\\x0bvariable3_2\\x15\\x94\\xd0\\xd3?\" 1.0 0.6548028 1.6548028\n",
      "700\n",
      "b'\\n\\x10\\n\\tvariable1\\x15\\x00\\x00\\x80?\\n\\x10\\n\\tvariable2\\x15Z\\x9cP\\xbe\\n\\x10\\n\\tvariable3\\x15\\xea\\xd8K?\\n\\x12\\n\\x0bvariable1_1\\x15\\x00\\x00\\x80?\\n\\x12\\n\\x0bvariable2_1\\x15L\\xb8\\xb8>\\n\\x12\\n\\x0bvariable3_1\\x15\\x13.\\xae?\\n\\x12\\n\\x0bvariable1_2\\x15\\x00\\x00\\x80?\\n\\x12\\n\\x0bvariable2_2\\x15\\xde\\xa3\\xee=\\n\\x12\\n\\x0bvariable3_2\\x15>\\xea\\x8e?' 1.0 0.11652349 1.1165235\n",
      "800\n",
      "b'\\n\\x10\\n\\tvariable1\\x15\\x00\\x00\\x80?\\n\\x10\\n\\tvariable2\\x15\\x92\\x0f\\x03\\xbf\\n\\x10\\n\\tvariable3\\x15\\xdc\\xe0\\xf9>\\n\\x12\\n\\x0bvariable1_1\\x15\\x00\\x00\\x80?\\n\\x12\\n\\x0bvariable2_1\\x15\\xa1\\x9af?\\n\\x12\\n\\x0bvariable3_1\\x15PM\\xf3?\\n\\x12\\n\\x0bvariable1_2\\x15\\x00\\x00\\x80?\\n\\x12\\n\\x0bvariable2_2\\x15\\xaa[-?\\n\\x12\\n\\x0bvariable3_2\\x15\\xd5\\xad\\xd6?' 1.0 0.67717993 1.6771799\n",
      "900\n",
      "b'\\n\\x10\\n\\tvariable1\\x15\\x00\\x00\\x80?\\n\\x10\\n\\tvariable2\\x15\\xad7\\x9a\\xbe\\n\\x10\\n\\tvariable3\\x15*\\xe42?\\n\\x12\\n\\x0bvariable1_1\\x15\\x00\\x00\\x80?\\n\\x12\\n\\x0bvariable2_1\\x15\\x88M\\xaa\\xbf\\n\\x12\\n\\x0bvariable3_1\\x15 6\\xa9\\xbe\\n\\x12\\n\\x0bvariable1_2\\x15\\x00\\x00\\x80?\\n\\x12\\n\\x0bvariable2_2\\x15\\x9b\\x0b\\xc9\\xbf\\n\\x12\\n\\x0bvariable3_2\\x156\\x17\\x12\\xbf' 1.0 -1.5706667 -0.5706667\n",
      "1000\n",
      "b'\\n\\x10\\n\\tvariable1\\x15\\x00\\x00\\x80?\\n\\x10\\n\\tvariable2\\x15L\\xc5\\xcd<\\n\\x10\\n\\tvariable3\\x15\\x157\\x83?\\n\\x12\\n\\x0bvariable1_1\\x15\\x00\\x00\\x80?\\n\\x12\\n\\x0bvariable2_1\\x15\\x8ao\\xa8?\\n\\x12\\n\\x0bvariable3_1\\x15\\xc57\\x14@\\n\\x12\\n\\x0bvariable1_2\\x15\\x00\\x00\\x80?\\n\\x12\\n\\x0bvariable2_2\\x15j\\xbe\\xf5\\xbd\\n\\x12\\n\\x0bvariable3_2\\x153Ha?' 1.0 -0.11999209 0.8800079\n"
     ]
    }
   ],
   "source": [
    "v1 = tf.Variable(1,dtype=tf.float32)\n",
    "v2 = tf.random_normal(shape=[])\n",
    "tf.summary.scalar('variable1',v1)\n",
    "tf.summary.scalar('variable2',v2)\n",
    "v3 = v1 + v2\n",
    "tf.summary.scalar('variable3',v3)\n",
    "# 如果有多个summary可以用下面命令合并\n",
    "merged = tf.summary.merge_all()\n",
    "total_step = 0\n",
    "with tf.Session() as sess:\n",
    "    summary_writer = tf.summary.FileWriter('../model/logs',graph=sess.graph)\n",
    "    summary_writer.add_graph(sess.graph)\n",
    "    sess.run(tf.global_variables_initializer())\n",
    "    while total_step < 1000:\n",
    "        total_step += 1\n",
    "        if total_step % 100 == 0:\n",
    "            summ1,v1v,v2v,v3v = sess.run([merged,v1,v2,v3])\n",
    "#             print(total_step)\n",
    "            summary_writer.add_summary(summ1,total_step)\n",
    "            print(summ1,v1v,v2v,v3v)"
   ]
  },
  {
   "cell_type": "code",
   "execution_count": null,
   "metadata": {},
   "outputs": [],
   "source": []
  }
 ],
 "metadata": {
  "kernelspec": {
   "display_name": "Python [conda env:python36]",
   "language": "python",
   "name": "conda-env-python36-py"
  },
  "language_info": {
   "codemirror_mode": {
    "name": "ipython",
    "version": 3
   },
   "file_extension": ".py",
   "mimetype": "text/x-python",
   "name": "python",
   "nbconvert_exporter": "python",
   "pygments_lexer": "ipython3",
   "version": "3.6.8"
  },
  "toc": {
   "base_numbering": 1,
   "nav_menu": {},
   "number_sections": true,
   "sideBar": true,
   "skip_h1_title": false,
   "title_cell": "Table of Contents",
   "title_sidebar": "Contents",
   "toc_cell": false,
   "toc_position": {},
   "toc_section_display": true,
   "toc_window_display": false
  },
  "varInspector": {
   "cols": {
    "lenName": 16,
    "lenType": 16,
    "lenVar": 40
   },
   "kernels_config": {
    "python": {
     "delete_cmd_postfix": "",
     "delete_cmd_prefix": "del ",
     "library": "var_list.py",
     "varRefreshCmd": "print(var_dic_list())"
    },
    "r": {
     "delete_cmd_postfix": ") ",
     "delete_cmd_prefix": "rm(",
     "library": "var_list.r",
     "varRefreshCmd": "cat(var_dic_list()) "
    }
   },
   "types_to_exclude": [
    "module",
    "function",
    "builtin_function_or_method",
    "instance",
    "_Feature"
   ],
   "window_display": false
  }
 },
 "nbformat": 4,
 "nbformat_minor": 2
}
