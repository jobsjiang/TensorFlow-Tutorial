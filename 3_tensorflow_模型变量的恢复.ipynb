{
 "cells": [
  {
   "cell_type": "code",
   "execution_count": 1,
   "metadata": {
    "ExecuteTime": {
     "end_time": "2019-07-15T15:22:51.441533Z",
     "start_time": "2019-07-15T15:22:50.153227Z"
    }
   },
   "outputs": [],
   "source": [
    "import tensorflow as tf"
   ]
  },
  {
   "cell_type": "code",
   "execution_count": 2,
   "metadata": {
    "ExecuteTime": {
     "end_time": "2019-07-15T15:22:52.268069Z",
     "start_time": "2019-07-15T15:22:52.263223Z"
    }
   },
   "outputs": [],
   "source": [
    "tf.reset_default_graph()"
   ]
  },
  {
   "cell_type": "code",
   "execution_count": 3,
   "metadata": {
    "ExecuteTime": {
     "end_time": "2019-07-15T15:22:53.258970Z",
     "start_time": "2019-07-15T15:22:53.210811Z"
    }
   },
   "outputs": [
    {
     "name": "stdout",
     "output_type": "stream",
     "text": [
      "INFO:tensorflow:Restoring parameters from ../model/model_1.ckpt\n",
      "[[-0.03460658  1.2103578   0.30701154]\n",
      " [ 0.34257913  1.2151983   1.5867139 ]]\n"
     ]
    }
   ],
   "source": [
    "v_tensor = tf.Variable(tf.truncated_normal(shape=[2,3],mean=0,stddev=1))\n",
    "v_tensor2 = tf.add(v_tensor,1)\n",
    "v_tensor3 = v_tensor2 + 0\n",
    "saver = tf.train.Saver()\n",
    "init = tf.global_variables_initializer()\n",
    "with tf.Session() as sess:\n",
    "#     sess.run(init)\n",
    "    saver.restore(sess,'../model/model_1.ckpt')\n",
    "    print(sess.run(v_tensor3))"
   ]
  },
  {
   "cell_type": "code",
   "execution_count": 5,
   "metadata": {
    "ExecuteTime": {
     "end_time": "2019-07-15T15:24:33.030991Z",
     "start_time": "2019-07-15T15:24:33.026467Z"
    }
   },
   "outputs": [
    {
     "name": "stdout",
     "output_type": "stream",
     "text": [
      "[<tf.Variable 'Variable:0' shape=(2, 3) dtype=float32_ref>]\n"
     ]
    }
   ],
   "source": [
    "# 选择变量 可以用._var_list属性来检查\n",
    "print(saver._var_list)"
   ]
  },
  {
   "cell_type": "code",
   "execution_count": 6,
   "metadata": {
    "ExecuteTime": {
     "end_time": "2019-07-15T15:26:19.809725Z",
     "start_time": "2019-07-15T15:26:19.804654Z"
    }
   },
   "outputs": [],
   "source": [
    "# 在某些特定的情况下，可能只需保存变量的一个子集。当创建 var_list 以期望它跟踪可用变量子集时，tf.train.Saver 允许传递 var_list。\n",
    "# a = tf.get_variable('a', [])\n",
    "# b = tf.get_variable('b', [])\n",
    "# c = tf.get_variable('c', [])\n",
    "# saver = tf.train.Saver(var_list=[a,b])\n",
    "# print(saver._var_list)"
   ]
  },
  {
   "cell_type": "code",
   "execution_count": 7,
   "metadata": {
    "ExecuteTime": {
     "end_time": "2019-07-15T15:29:26.740666Z",
     "start_time": "2019-07-15T15:29:26.736865Z"
    }
   },
   "outputs": [],
   "source": [
    "# 加载修正模型，如果我们想保存一个完整的模型，但只想加载其中的一部分\n",
    "# import tensorflow as tf\n",
    "# a = tf.get_variable('a', [])\n",
    "# b = tf.get_variable('b', [])\n",
    "# init = tf.global_variables_initializer()\n",
    "# saver = tf.train.Saver()\n",
    "# sess = tf.Session()\n",
    "# sess.run(init)\n",
    "# saver.save(sess, './tftcp.model')\n",
    "# import tensorflow as tf\n",
    "# a = tf.get_variable('a', [])\n",
    "# init = tf.global_variables_initializer()\n",
    "# saver = tf.train.Saver()\n",
    "# sess = tf.Session()\n",
    "# sess.run(init)\n",
    "# saver.restore(sess, './tftcp.model')\n",
    "# sess.run(a)"
   ]
  },
  {
   "cell_type": "code",
   "execution_count": 8,
   "metadata": {
    "ExecuteTime": {
     "end_time": "2019-07-15T15:30:34.830733Z",
     "start_time": "2019-07-15T15:30:34.826885Z"
    }
   },
   "outputs": [],
   "source": [
    "# 但一个模型作为大型模型但组件加载就会出现失败的情况\n",
    "# import tensorflow as tf\n",
    "# a = tf.get_variable('a', [])\n",
    "# init = tf.global_variables_initializer()\n",
    "# saver = tf.train.Saver()\n",
    "# sess = tf.Session()\n",
    "# sess.run(init)\n",
    "# saver.save(sess, './tftcp.model')\n",
    "\n",
    "# import tensorflow as tf\n",
    "# a = tf.get_variable('a', [])\n",
    "# d = tf.get_variable('d', [])\n",
    "# init = tf.global_variables_initializer()\n",
    "# saver = tf.train.Saver()\n",
    "# sess = tf.Session()\n",
    "# sess.run(init)\n",
    "# saver.restore(sess, './tftcp.model')"
   ]
  },
  {
   "cell_type": "code",
   "execution_count": 10,
   "metadata": {
    "ExecuteTime": {
     "end_time": "2019-07-15T15:34:05.110190Z",
     "start_time": "2019-07-15T15:34:05.104555Z"
    }
   },
   "outputs": [],
   "source": [
    "# 第三种情况\n",
    "# 我们想将一个模型的参数加载到另一个模型的计算图中。这也会引发一个错误，原因很明显：Tensorflow 不知道把加载的所有参数放置在何处。幸好有个方法可以给它点提示。\n",
    "# 还记得 var_list 吗？或者更准确来说是「var_list_or_dictionary_mapping_names_to_vars」，但这个名字有点拗口，所以他们使用第一个。\n",
    "# 保存模型是 Tensorflow 要求使用全局唯一变量名的关键原因之一。在保存-模型-文件中，每个保存变量的名称都与其形状和值有关。将其加载到新的计算图中与将想要加载的变量的原始名称映射到当前模型的变量中一样简单。示例如下：\n",
    "# import tensorflow as tf\n",
    "# a = tf.get_variable('a', [])\n",
    "# init = tf.global_variables_initializer()\n",
    "# saver = tf.train.Saver()\n",
    "# sess = tf.Session()\n",
    "# sess.run(init)\n",
    "# saver.save(sess, './tftcp.model')\n",
    "\n",
    "# import tensorflow as tf\n",
    "# d = tf.get_variable('d', [])\n",
    "# init = tf.global_variables_initializer()\n",
    "# saver = tf.train.Saver(var_list={'a': d})\n",
    "# sess = tf.Session()\n",
    "# sess.run(init)\n",
    "# saver.restore(sess, './tftcp.model')\n",
    "# sess.run(d)\n",
    "# 这是一种机制，通过这个机制，可以将没有相同计算图的模型组合在一起。例如，你可能从网上获得了一个预训练好的语言模型，希望重用词嵌入。或者你可能在两次训练之间改变了模型的参数化，想让这个新版本在旧版本的基础上继续前进；但你又不想重新训练整个过程。在这两种情况下，你只需手动创建一个字典，将旧变量名称映射到新变量即可。\n",
    "# 需要注意的是：你要明确地知道正在加载的参数是如何使用的。如果可以，你应该使用原作者用来构建模型的确切代码，以确保计算图的组件与训练时看起来一样。如果需要复现模型，务必记住，无论多微小的更改，都可能严重损害预训练网络的性能。所以始终要将复现结果和原来的结果进行对比。"
   ]
  },
  {
   "cell_type": "code",
   "execution_count": 12,
   "metadata": {
    "ExecuteTime": {
     "end_time": "2019-07-15T15:34:48.508217Z",
     "start_time": "2019-07-15T15:34:45.005610Z"
    }
   },
   "outputs": [
    {
     "name": "stdout",
     "output_type": "stream",
     "text": [
      "[('Variable', [2, 3]), ('a', []), ('b', [10, 20]), ('c', [])]\n"
     ]
    }
   ],
   "source": [
    "# 模型检查\n",
    "import tensorflow as tf\n",
    "a = tf.get_variable('a', [])\n",
    "b = tf.get_variable('b', [10,20])\n",
    "c = tf.get_variable('c', [])\n",
    "init = tf.global_variables_initializer()\n",
    "saver = tf.train.Saver()\n",
    "sess = tf.Session()\n",
    "sess.run(init)\n",
    "saver.save(sess, './tftcp.model')\n",
    "print(tf.contrib.framework.list_variables('./tftcp.model'))"
   ]
  },
  {
   "cell_type": "code",
   "execution_count": null,
   "metadata": {},
   "outputs": [],
   "source": []
  }
 ],
 "metadata": {
  "kernelspec": {
   "display_name": "Python [conda env:python36]",
   "language": "python",
   "name": "conda-env-python36-py"
  },
  "language_info": {
   "codemirror_mode": {
    "name": "ipython",
    "version": 3
   },
   "file_extension": ".py",
   "mimetype": "text/x-python",
   "name": "python",
   "nbconvert_exporter": "python",
   "pygments_lexer": "ipython3",
   "version": "3.6.8"
  },
  "toc": {
   "base_numbering": 1,
   "nav_menu": {},
   "number_sections": true,
   "sideBar": true,
   "skip_h1_title": false,
   "title_cell": "Table of Contents",
   "title_sidebar": "Contents",
   "toc_cell": false,
   "toc_position": {},
   "toc_section_display": true,
   "toc_window_display": false
  },
  "varInspector": {
   "cols": {
    "lenName": 16,
    "lenType": 16,
    "lenVar": 40
   },
   "kernels_config": {
    "python": {
     "delete_cmd_postfix": "",
     "delete_cmd_prefix": "del ",
     "library": "var_list.py",
     "varRefreshCmd": "print(var_dic_list())"
    },
    "r": {
     "delete_cmd_postfix": ") ",
     "delete_cmd_prefix": "rm(",
     "library": "var_list.r",
     "varRefreshCmd": "cat(var_dic_list()) "
    }
   },
   "types_to_exclude": [
    "module",
    "function",
    "builtin_function_or_method",
    "instance",
    "_Feature"
   ],
   "window_display": false
  }
 },
 "nbformat": 4,
 "nbformat_minor": 2
}
