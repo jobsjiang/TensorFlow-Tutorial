{
 "cells": [
  {
   "cell_type": "code",
   "execution_count": null,
   "metadata": {},
   "outputs": [],
   "source": [
    "import os\n",
    "import numpy as np\n",
    "from PIL import Image\n",
    "from tensorflow.python import keras\n",
    "from tensorflow.python.keras.layers import Dense\n",
    "import matplotlib.pyplot as plt"
   ]
  },
  {
   "cell_type": "code",
   "execution_count": null,
   "metadata": {},
   "outputs": [],
   "source": [
    "# 获取训练数据与测试数据\n",
    "mnist_train_data = '../../dataset/mnist_data/mnist/mnist_train/'\n",
    "def get_data(data_dir):\n",
    "    file_list = os.listdir(data_dir)\n",
    "    np.random.shuffle(file_list)\n",
    "    datas = []\n",
    "    labels = []\n",
    "    for file in file_list:\n",
    "        files = file.split('.')\n",
    "        if files[-1] == 'jpg':\n",
    "            image = np.array(Image.open(data_dir+file))\n",
    "            image = image.flatten() # 将28*28的图片转换为784的向量\n",
    "            image = image/255.\n",
    "            datas.append(image)\n",
    "            labels.append(int(files[0]))\n",
    "    # 将list转换为数组\n",
    "    datas = np.array(datas)\n",
    "    labels = np.array(labels)\n",
    "    return datas,labels"
   ]
  },
  {
   "cell_type": "code",
   "execution_count": null,
   "metadata": {},
   "outputs": [],
   "source": [
    "x_train,y_train = get_data(mnist_train_data)"
   ]
  },
  {
   "cell_type": "code",
   "execution_count": null,
   "metadata": {},
   "outputs": [],
   "source": [
    "# 编码器模型\n",
    "encoder = keras.Sequential([\n",
    "    Dense(256,activation='relu'),\n",
    "    Dense(64,activation='relu'),\n",
    "    Dense(16,activation='relu'),\n",
    "    Dense(2)\n",
    "])"
   ]
  },
  {
   "cell_type": "code",
   "execution_count": null,
   "metadata": {},
   "outputs": [],
   "source": [
    "# 解码器模型\n",
    "decoder = keras.Sequential([\n",
    "    Dense(16,activation='relu'),\n",
    "    Dense(64,activation='relu'),\n",
    "    Dense(256,activation='relu'),\n",
    "    Dense(784,activation='sigmoid')\n",
    "])"
   ]
  },
  {
   "cell_type": "code",
   "execution_count": null,
   "metadata": {},
   "outputs": [],
   "source": [
    "# 自编码器与训练\n",
    "autoencoder = keras.Sequential([\n",
    "    encoder,\n",
    "    decoder\n",
    "])\n",
    "# compile\n",
    "autoencoder.compile(optimizer='adam',loss=keras.losses.binary_crossentropy)\n",
    "autoencoder.fit(x_train,y_train,epochs=20,batch_size=256)"
   ]
  },
  {
   "cell_type": "code",
   "execution_count": null,
   "metadata": {},
   "outputs": [],
   "source": [
    "# 图像重构测试\n",
    "example_to_show = 10\n",
    "rec = autoencoder.predict(x_train[:example_to_show])\n",
    "f,ax = plt.subplots(2,10,figsize=(10,2))\n",
    "for i in range(example_to_show):\n",
    "    ax[0][i].imshow(np.reshape(x_train[i],(28,28)))\n",
    "    ax[1][i].imshow(np.reshape(rec[i],(28,28)))\n",
    "plt.show()"
   ]
  },
  {
   "cell_type": "code",
   "execution_count": null,
   "metadata": {},
   "outputs": [],
   "source": [
    "# 图像分类测试\n",
    "batch_x = x_train[:1000]\n",
    "batch_y = y_train[:1000]\n",
    "encoded = encoder.predict(batch_x)\n",
    "plt.scatter(encoded[:, 0], encoded[:, 1], c=batch_y)\n",
    "plt.show()"
   ]
  },
  {
   "cell_type": "code",
   "execution_count": null,
   "metadata": {},
   "outputs": [],
   "source": []
  }
 ],
 "metadata": {
  "kernelspec": {
   "display_name": "Python [conda env:root] *",
   "language": "python",
   "name": "conda-root-py"
  },
  "language_info": {
   "codemirror_mode": {
    "name": "ipython",
    "version": 3
   },
   "file_extension": ".py",
   "mimetype": "text/x-python",
   "name": "python",
   "nbconvert_exporter": "python",
   "pygments_lexer": "ipython3",
   "version": "3.6.5"
  }
 },
 "nbformat": 4,
 "nbformat_minor": 2
}
