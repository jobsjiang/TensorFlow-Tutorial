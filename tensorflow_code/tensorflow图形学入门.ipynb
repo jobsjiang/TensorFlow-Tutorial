{
 "cells": [
  {
   "cell_type": "markdown",
   "metadata": {},
   "source": [
    "https://www.yanxishe.com/TextTranslation/1715?from=zhihu"
   ]
  },
  {
   "cell_type": "code",
   "execution_count": 4,
   "metadata": {},
   "outputs": [
    {
     "ename": "ModuleNotFoundError",
     "evalue": "No module named 'tensorflow_graphics'",
     "output_type": "error",
     "traceback": [
      "\u001b[1;31m---------------------------------------------------------------------------\u001b[0m",
      "\u001b[1;31mModuleNotFoundError\u001b[0m                       Traceback (most recent call last)",
      "\u001b[1;32m<ipython-input-4-8ac6eff017a4>\u001b[0m in \u001b[0;36m<module>\u001b[1;34m\u001b[0m\n\u001b[0;32m      3\u001b[0m \u001b[1;32mimport\u001b[0m \u001b[0mtrimesh\u001b[0m\u001b[1;33m\u001b[0m\u001b[1;33m\u001b[0m\u001b[0m\n\u001b[0;32m      4\u001b[0m \u001b[1;33m\u001b[0m\u001b[0m\n\u001b[1;32m----> 5\u001b[1;33m \u001b[1;32mimport\u001b[0m \u001b[0mtensorflow_graphics\u001b[0m\u001b[1;33m.\u001b[0m\u001b[0mgeometry\u001b[0m\u001b[1;33m.\u001b[0m\u001b[0mtransformation\u001b[0m \u001b[1;32mas\u001b[0m \u001b[0mtfg_transformation\u001b[0m\u001b[1;33m\u001b[0m\u001b[1;33m\u001b[0m\u001b[0m\n\u001b[0m\u001b[0;32m      6\u001b[0m \u001b[1;32mfrom\u001b[0m \u001b[0mtensorflow_graphics\u001b[0m\u001b[1;33m.\u001b[0m\u001b[0mnotebooks\u001b[0m \u001b[1;32mimport\u001b[0m \u001b[0mthreejs_visualization\u001b[0m\u001b[1;33m\u001b[0m\u001b[1;33m\u001b[0m\u001b[0m\n\u001b[0;32m      7\u001b[0m \u001b[1;33m\u001b[0m\u001b[0m\n",
      "\u001b[1;31mModuleNotFoundError\u001b[0m: No module named 'tensorflow_graphics'"
     ]
    }
   ],
   "source": [
    "import numpy as np\n",
    "import tensorflow as tf\n",
    "import trimesh\n",
    "\n",
    "import tensorflow_graphics.geometry.transformation as tfg_transformation\n",
    "from tensorflow_graphics.notebooks import threejs_visualization\n",
    "\n",
    "tf.enable_eager_execution()\n",
    "\n",
    "# Download the mesh.\n",
    "!wget https://storage.googleapis.com/tensorflow-graphics/notebooks/index/cow.obj\n",
    "# Load the mesh.\n",
    "mesh = trimesh.load(\"cow.obj\")\n",
    "mesh = {\"vertices\": mesh.vertices, \"faces\": mesh.faces}\n",
    "# Visualize the original mesh.\n",
    "threejs_visualization.triangular_mesh_renderer(mesh, width=400, height=400)\n",
    "# Set the axis and angle parameters.\n",
    "axis = np.array((0., 1., 0.))  # y axis.\n",
    "angle = np.array((np.pi / 4.,))  # 45 degree angle.\n",
    "# Rotate the mesh.\n",
    "mesh['vertices'] = tfg_transformation.axis_angle.rotate(mesh[\"vertices\"], axis,\n",
    "                                                        angle).numpy()\n",
    "# Visualize the rotated mesh.\n",
    "threejs_visualization.triangular_mesh_renderer(mesh, width=400, height=400)"
   ]
  },
  {
   "cell_type": "code",
   "execution_count": null,
   "metadata": {},
   "outputs": [],
   "source": []
  }
 ],
 "metadata": {
  "kernelspec": {
   "display_name": "Python [conda env:tf2]",
   "language": "python",
   "name": "conda-env-tf2-py"
  },
  "language_info": {
   "codemirror_mode": {
    "name": "ipython",
    "version": 3
   },
   "file_extension": ".py",
   "mimetype": "text/x-python",
   "name": "python",
   "nbconvert_exporter": "python",
   "pygments_lexer": "ipython3",
   "version": "3.6.8"
  }
 },
 "nbformat": 4,
 "nbformat_minor": 2
}
