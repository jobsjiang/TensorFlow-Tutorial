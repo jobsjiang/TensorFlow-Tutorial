{
 "cells": [
  {
   "cell_type": "code",
   "execution_count": 1,
   "metadata": {},
   "outputs": [],
   "source": [
    "import numpy as np\n",
    "import datetime"
   ]
  },
  {
   "cell_type": "code",
   "execution_count": 2,
   "metadata": {},
   "outputs": [],
   "source": [
    "x = np.random.uniform(-1,0,(200000,4))\n",
    "y = np.random.randint(2,size=200000)"
   ]
  },
  {
   "cell_type": "code",
   "execution_count": 3,
   "metadata": {},
   "outputs": [
    {
     "name": "stderr",
     "output_type": "stream",
     "text": [
      "C:\\Users\\jianghaitao1\\AppData\\Local\\Continuum\\anaconda3\\lib\\site-packages\\h5py\\__init__.py:36: FutureWarning: Conversion of the second argument of issubdtype from `float` to `np.floating` is deprecated. In future, it will be treated as `np.float64 == np.dtype(float).type`.\n",
      "  from ._conv import register_converters as _register_converters\n",
      "Using TensorFlow backend.\n",
      "C:\\Users\\jianghaitao1\\AppData\\Local\\Continuum\\anaconda3\\lib\\site-packages\\tensorflow\\python\\framework\\dtypes.py:523: FutureWarning: Passing (type, 1) or '1type' as a synonym of type is deprecated; in a future version of numpy, it will be understood as (type, (1,)) / '(1,)type'.\n",
      "  _np_qint8 = np.dtype([(\"qint8\", np.int8, 1)])\n",
      "C:\\Users\\jianghaitao1\\AppData\\Local\\Continuum\\anaconda3\\lib\\site-packages\\tensorflow\\python\\framework\\dtypes.py:524: FutureWarning: Passing (type, 1) or '1type' as a synonym of type is deprecated; in a future version of numpy, it will be understood as (type, (1,)) / '(1,)type'.\n",
      "  _np_quint8 = np.dtype([(\"quint8\", np.uint8, 1)])\n",
      "C:\\Users\\jianghaitao1\\AppData\\Local\\Continuum\\anaconda3\\lib\\site-packages\\tensorflow\\python\\framework\\dtypes.py:525: FutureWarning: Passing (type, 1) or '1type' as a synonym of type is deprecated; in a future version of numpy, it will be understood as (type, (1,)) / '(1,)type'.\n",
      "  _np_qint16 = np.dtype([(\"qint16\", np.int16, 1)])\n",
      "C:\\Users\\jianghaitao1\\AppData\\Local\\Continuum\\anaconda3\\lib\\site-packages\\tensorflow\\python\\framework\\dtypes.py:526: FutureWarning: Passing (type, 1) or '1type' as a synonym of type is deprecated; in a future version of numpy, it will be understood as (type, (1,)) / '(1,)type'.\n",
      "  _np_quint16 = np.dtype([(\"quint16\", np.uint16, 1)])\n",
      "C:\\Users\\jianghaitao1\\AppData\\Local\\Continuum\\anaconda3\\lib\\site-packages\\tensorflow\\python\\framework\\dtypes.py:527: FutureWarning: Passing (type, 1) or '1type' as a synonym of type is deprecated; in a future version of numpy, it will be understood as (type, (1,)) / '(1,)type'.\n",
      "  _np_qint32 = np.dtype([(\"qint32\", np.int32, 1)])\n",
      "C:\\Users\\jianghaitao1\\AppData\\Local\\Continuum\\anaconda3\\lib\\site-packages\\tensorflow\\python\\framework\\dtypes.py:532: FutureWarning: Passing (type, 1) or '1type' as a synonym of type is deprecated; in a future version of numpy, it will be understood as (type, (1,)) / '(1,)type'.\n",
      "  np_resource = np.dtype([(\"resource\", np.ubyte, 1)])\n"
     ]
    }
   ],
   "source": [
    "import keras"
   ]
  },
  {
   "cell_type": "code",
   "execution_count": 4,
   "metadata": {},
   "outputs": [],
   "source": [
    "inp = keras.layers.Input(shape=(4,))\n",
    "dense_1 = keras.layers.Dense(64,activation='relu',kernel_initializer='RandomNormal',bias_initializer='zero')(inp)\n",
    "# 添加层\n",
    "dense_2 = keras.layers.Dense(64,activation='relu',kernel_initializer='RandomNormal',bias_initializer='zero')(dense_1)\n",
    "dense_3 = keras.layers.Dense(64,activation='relu',kernel_initializer='RandomNormal',bias_initializer='zero')(dense_2)\n",
    "# out = keras.layers.Dense(1,activation='sigmoid')(dense_1)\n",
    "out = keras.layers.Dense(1,activation='sigmoid')(dense_3)\n",
    "model = keras.models.Model(inp,out)\n",
    "model.compile(optimizer='Adam',loss='binary_crossentropy',metrics=['accuracy'])"
   ]
  },
  {
   "cell_type": "code",
   "execution_count": 5,
   "metadata": {},
   "outputs": [],
   "source": [
    "# 初始化Tensorboard变量，每个epoch都需要梯度，因此将write_grads初始化为True\n",
    "log_dir = '../../../dataset/logs/fit' + datetime.datetime.now().strftime('%Y%m%d-%H%M%S')\n",
    "tensorboard_callback = keras.callbacks.TensorBoard(log_dir=log_dir,histogram_freq=1,write_grads=True)"
   ]
  },
  {
   "cell_type": "code",
   "execution_count": 6,
   "metadata": {},
   "outputs": [],
   "source": [
    "from sklearn.model_selection import train_test_split"
   ]
  },
  {
   "cell_type": "code",
   "execution_count": 7,
   "metadata": {},
   "outputs": [],
   "source": [
    "X_train,X_test,y_train,y_test = train_test_split(x,y,test_size=0.3,random_state=0)"
   ]
  },
  {
   "cell_type": "code",
   "execution_count": null,
   "metadata": {},
   "outputs": [
    {
     "name": "stdout",
     "output_type": "stream",
     "text": [
      "Train on 140000 samples, validate on 60000 samples\n",
      "Epoch 1/25\n",
      "140000/140000 [==============================] - 13s 91us/step - loss: 0.6932 - acc: 0.5002 - val_loss: 0.6932 - val_acc: 0.4989\n",
      "Epoch 2/25\n",
      "140000/140000 [==============================] - 12s 86us/step - loss: 0.6932 - acc: 0.4996 - val_loss: 0.6932 - val_acc: 0.4989\n",
      "Epoch 3/25\n",
      "140000/140000 [==============================] - 12s 85us/step - loss: 0.6932 - acc: 0.4976 - val_loss: 0.6931 - val_acc: 0.5011\n",
      "Epoch 4/25\n",
      "140000/140000 [==============================] - 12s 84us/step - loss: 0.6932 - acc: 0.4999 - val_loss: 0.6932 - val_acc: 0.4989\n",
      "Epoch 5/25\n",
      "140000/140000 [==============================] - 12s 84us/step - loss: 0.6932 - acc: 0.5008 - val_loss: 0.6932 - val_acc: 0.5011\n",
      "Epoch 6/25\n",
      "140000/140000 [==============================] - 13s 90us/step - loss: 0.6932 - acc: 0.4995 - val_loss: 0.6931 - val_acc: 0.5011\n",
      "Epoch 7/25\n",
      "140000/140000 [==============================] - 12s 85us/step - loss: 0.6932 - acc: 0.4994 - val_loss: 0.6932 - val_acc: 0.5011\n",
      "Epoch 8/25\n",
      "140000/140000 [==============================] - 12s 85us/step - loss: 0.6932 - acc: 0.5018 - val_loss: 0.6931 - val_acc: 0.5011\n",
      "Epoch 9/25\n",
      "140000/140000 [==============================] - 13s 90us/step - loss: 0.6932 - acc: 0.5014 - val_loss: 0.6931 - val_acc: 0.5011\n",
      "Epoch 10/25\n",
      "140000/140000 [==============================] - 12s 86us/step - loss: 0.6932 - acc: 0.5007 - val_loss: 0.6931 - val_acc: 0.5011\n",
      "Epoch 11/25\n",
      "140000/140000 [==============================] - 12s 85us/step - loss: 0.6932 - acc: 0.5004 - val_loss: 0.6931 - val_acc: 0.5011\n",
      "Epoch 12/25\n",
      "140000/140000 [==============================] - 12s 86us/step - loss: 0.6932 - acc: 0.5008 - val_loss: 0.6931 - val_acc: 0.5011\n",
      "Epoch 13/25\n",
      "140000/140000 [==============================] - 12s 85us/step - loss: 0.6932 - acc: 0.4997 - val_loss: 0.6932 - val_acc: 0.4989\n",
      "Epoch 14/25\n",
      "140000/140000 [==============================] - 12s 88us/step - loss: 0.6931 - acc: 0.5027 - val_loss: 0.6933 - val_acc: 0.4989\n",
      "Epoch 15/25\n",
      "140000/140000 [==============================] - 12s 86us/step - loss: 0.6932 - acc: 0.4989 - val_loss: 0.6931 - val_acc: 0.4989\n",
      "Epoch 16/25\n",
      "140000/140000 [==============================] - 12s 84us/step - loss: 0.6932 - acc: 0.5012 - val_loss: 0.6932 - val_acc: 0.4989\n"
     ]
    }
   ],
   "source": [
    "# 拟合模型\n",
    "history = model.fit(X_train,y_train,epochs=25,verbose=True,validation_data=(X_test,y_test),callbacks=[tensorboard_callback])"
   ]
  },
  {
   "cell_type": "code",
   "execution_count": null,
   "metadata": {},
   "outputs": [],
   "source": []
  }
 ],
 "metadata": {
  "kernelspec": {
   "display_name": "Python [conda env:root] *",
   "language": "python",
   "name": "conda-root-py"
  },
  "language_info": {
   "codemirror_mode": {
    "name": "ipython",
    "version": 3
   },
   "file_extension": ".py",
   "mimetype": "text/x-python",
   "name": "python",
   "nbconvert_exporter": "python",
   "pygments_lexer": "ipython3",
   "version": "3.6.5"
  }
 },
 "nbformat": 4,
 "nbformat_minor": 2
}
